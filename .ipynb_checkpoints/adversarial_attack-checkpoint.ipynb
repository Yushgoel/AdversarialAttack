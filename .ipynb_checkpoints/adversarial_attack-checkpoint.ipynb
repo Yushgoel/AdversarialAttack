{
 "cells": [
  {
   "cell_type": "code",
   "execution_count": 1,
   "metadata": {},
   "outputs": [],
   "source": [
    "#Importing libraries\n",
    "import tensorflow as tf\n",
    "\n",
    "from tensorflow.keras.datasets import mnist, cifar10, cifar100\n",
    "\n",
    "from tensorflow.keras import Sequential, Input, Model\n",
    "from tensorflow.keras.callbacks import LambdaCallback\n",
    "from tensorflow.keras.layers import Conv2D, MaxPooling2D, Dropout, Dense, Flatten, Activation\n",
    "\n",
    "\n",
    "import numpy as np\n",
    "import random\n",
    "import matplotlib.pyplot as plt"
   ]
  },
  {
   "cell_type": "code",
   "execution_count": 2,
   "metadata": {},
   "outputs": [
    {
     "data": {
      "text/plain": [
       "'2.2.0'"
      ]
     },
     "execution_count": 2,
     "metadata": {},
     "output_type": "execute_result"
    }
   ],
   "source": [
    "tf.__version__"
   ]
  },
  {
   "cell_type": "code",
   "execution_count": 3,
   "metadata": {},
   "outputs": [],
   "source": [
    "#load data\n",
    "\n",
    "(x_train, y_train), (x_test, y_test) = mnist.load_data()\n",
    "\n",
    "#different classes model has to learn to differentiate\n",
    "#code is written this way to make it generalizable to other datasets\n",
    "labels = ['zero', 'one', 'two', 'three', 'four', 'five', 'six', 'seven', 'eight', 'nine']\n"
   ]
  },
  {
   "cell_type": "code",
   "execution_count": 4,
   "metadata": {},
   "outputs": [
    {
     "name": "stdout",
     "output_type": "stream",
     "text": [
      "Data shapes (10000, 28, 28, 1) (10000, 10) (60000, 28, 28, 1) (60000, 10)\n"
     ]
    }
   ],
   "source": [
    "#defining characteristics of the dataset\n",
    "img_rows = 28\n",
    "img_cols = 28\n",
    "channels = 1\n",
    "num_classes = 10\n",
    "\n",
    "#Normalizing Data\n",
    "x_train = x_train / 255\n",
    "x_test = x_test / 255\n",
    "\n",
    "#Reshaping data into required format\n",
    "x_train = x_train.reshape((-1, img_rows, img_cols, channels))\n",
    "x_test = x_test.reshape((-1, img_rows, img_cols, channels))\n",
    "\n",
    "#One hot encoding labels into a more NN friendly format\n",
    "y_train = tf.keras.utils.to_categorical(y_train, num_classes)\n",
    "y_test = tf.keras.utils.to_categorical(y_test, num_classes)\n",
    "\n",
    "print(\"Data shapes\", x_test.shape, y_test.shape, x_train.shape, y_train.shape)"
   ]
  },
  {
   "cell_type": "markdown",
   "metadata": {},
   "source": [
    "The following model architecture is the baseline model I will be using. The model has been pre-trained to save time in another notebook called MNIST_baseline. "
   ]
  },
  {
   "cell_type": "code",
   "execution_count": null,
   "metadata": {},
   "outputs": [],
   "source": [
    "\n",
    "def create_baseline_model():\n",
    "    X_Input = Input((img_rows, img_cols, channels))\n",
    "    X = Conv2D(32, kernel_size=(3, 3), strides=(3, 3), padding='same', activation='relu')(X_Input)\n",
    "    X = Conv2D(64, kernel_size=(3, 3), strides=(3, 3), padding='same', activation='relu')(X)\n",
    "    X = Conv2D(64, kernel_size=(3, 3), strides=(3, 3), padding='same', activation='relu')(X)\n",
    "    X = MaxPooling2D(pool_size=(2, 2))(X)\n",
    "    X = Dropout(0.2)(X)\n",
    "    X = Flatten()(X)\n",
    "    X = Dense(32)(X)\n",
    "    X = Dropout(0.2)(X)\n",
    "    X = Dense(32)(X)\n",
    "    X = Dropout(0.2)(X)\n",
    "    X = Dense(num_classes, activation='softmax')(X)\n",
    "    \n",
    "    model = Model(inputs = X_Input, outputs = X)\n",
    "    return model\n",
    "\n",
    "model = create_baseline_model()\n",
    "\n",
    "model.load_weights(filepath='./baseline_model.hdf5')\n",
    "model.compile(optimizer='adam', loss='mse', metrics=['accuracy'])\n",
    "# Check if model is imported correctly. Accuracy should be 0.981800019\n",
    "model.evaluate(x_test, y_test)"
   ]
  },
  {
   "cell_type": "markdown",
   "metadata": {},
   "source": [
    "Finally, the next code cell implements the adversarial attack algorithm. What this does essentially is finds the loss function of the model with respect to the image, and instead of updating the image to minimize loss, the model updates the image to maximize loss."
   ]
  },
  {
   "cell_type": "code",
   "execution_count": 6,
   "metadata": {},
   "outputs": [],
   "source": [
    "def adversarial_pattern(image, label):\n",
    "    image = tf.cast(image, tf.float32)\n",
    "    \n",
    "    with tf.GradientTape() as tape:\n",
    "        tape.watch(image)\n",
    "        prediction = model(image)\n",
    "        loss = tf.keras.losses.MSE(label, prediction)\n",
    "    \n",
    "    gradient = tape.gradient(loss, image)\n",
    "    \n",
    "    signed_grad = tf.sign(gradient)\n",
    "    \n",
    "    return signed_grad"
   ]
  },
  {
   "cell_type": "markdown",
   "metadata": {},
   "source": [
    "Finally, we will generate adversarial examples! Right now, I will only generate adversarial examples for the first 3000 rows of the training set, but this is purely to save time. We will still be able to see a huge drop in accuracy."
   ]
  },
  {
   "cell_type": "code",
   "execution_count": 7,
   "metadata": {},
   "outputs": [],
   "source": [
    "preds = []\n",
    "x_adversarial = np.zeros((60000, 28, 28, 1))\n",
    "\n",
    "for i in range(60000):\n",
    "    image = x_train[i]\n",
    "    image_label = y_train[i]\n",
    "    \n",
    "    perturbations = adversarial_pattern(image.reshape((1, img_rows, img_cols, channels)), image_label).numpy()\n",
    "    adversarial = image + perturbations * 0.1\n",
    "    x_adversarial[i, :, :, :] = adversarial\n",
    "    preds.append(model.predict(adversarial).argmax())"
   ]
  },
  {
   "cell_type": "markdown",
   "metadata": {},
   "source": [
    "Now we will see how are model performed on the adversarial examples. We will also compare it to how it performs on regular examples. There is a drop from 98% to 23%, which is almost 75%!. Here we see the need to prevent such attacks, as in a few minutes, we were able to bring the model down on its knees."
   ]
  },
  {
   "cell_type": "code",
   "execution_count": 8,
   "metadata": {},
   "outputs": [
    {
     "name": "stdout",
     "output_type": "stream",
     "text": [
      "94/94 [==============================] - 0s 950us/step - loss: 0.1367 - accuracy: 0.2293\n"
     ]
    },
    {
     "data": {
      "text/plain": [
       "[0.13667051494121552, 0.2293333262205124]"
      ]
     },
     "execution_count": 8,
     "metadata": {},
     "output_type": "execute_result"
    }
   ],
   "source": [
    "#Let's see the accuracy of model against adversarial\n",
    "model.evaluate(x_adversarial[0: 60000, :, :, :], y_train[0 : 60000, :])"
   ]
  },
  {
   "cell_type": "code",
   "execution_count": 9,
   "metadata": {},
   "outputs": [
    {
     "name": "stdout",
     "output_type": "stream",
     "text": [
      "94/94 [==============================] - 0s 954us/step - loss: 0.0018 - accuracy: 0.9890\n"
     ]
    },
    {
     "data": {
      "text/plain": [
       "[0.001836622366681695, 0.9890000224113464]"
      ]
     },
     "execution_count": 9,
     "metadata": {},
     "output_type": "execute_result"
    }
   ],
   "source": [
    "#Let's see the accuracy of model against regular data to compare. The above value should be very low compared to this one.\n",
    "model.evaluate(x_train[0: 60000, :, :, :], y_train[0 : 60000, :])"
   ]
  },
  {
   "cell_type": "markdown",
   "metadata": {},
   "source": [
    "# Training on Adversarial Data\n",
    "The first approach we will try is the standard approach of training on adversarial data. I will not be using pure adversarial data as I don't want the model to forget how to classify regular images!"
   ]
  },
  {
   "cell_type": "code",
   "execution_count": 10,
   "metadata": {},
   "outputs": [],
   "source": [
    "ad_train = np.concatenate((x_adversarial, x_train[0 : 60000, :, :, :]))\n",
    "ad_y_train = np.concatenate((y_train[0 : 60000, :],y_train[0 : 60000, :]))"
   ]
  },
  {
   "cell_type": "code",
   "execution_count": 11,
   "metadata": {},
   "outputs": [
    {
     "data": {
      "text/plain": [
       "(120000, 28, 28, 1)"
      ]
     },
     "execution_count": 11,
     "metadata": {},
     "output_type": "execute_result"
    }
   ],
   "source": [
    "ad_train.shape"
   ]
  },
  {
   "cell_type": "code",
   "execution_count": 12,
   "metadata": {},
   "outputs": [
    {
     "data": {
      "text/plain": [
       "(120000, 10)"
      ]
     },
     "execution_count": 12,
     "metadata": {},
     "output_type": "execute_result"
    }
   ],
   "source": [
    "ad_y_train.shape"
   ]
  },
  {
   "cell_type": "markdown",
   "metadata": {},
   "source": [
    "Now we will train the model. When I was running experiments, I found something very interesting: if the epochs are set to 20, and then I try to implement adversarial attacks on the test set and evaluate, the model actually performs worse than otherwise. This means that the model is overfitting to adversarial examples, and hence is only memorizing some examples. Although overfitting happens for regular data as well, it is important to note that when training the model on regular data, the model didn't overfit even after 20 epochs, and the test accuracy was still going up. \n",
    "\n",
    "Conclusion: Adversarial Examples are extremely easy to overfit to. Hence, it won't be extremely effective."
   ]
  },
  {
   "cell_type": "code",
   "execution_count": 13,
   "metadata": {
    "scrolled": true
   },
   "outputs": [
    {
     "name": "stdout",
     "output_type": "stream",
     "text": [
      "Epoch 1/2\n",
      "188/188 [==============================] - 1s 3ms/step - loss: 0.0276 - accuracy: 0.8448\n",
      "Epoch 2/2\n",
      "188/188 [==============================] - 1s 3ms/step - loss: 0.0141 - accuracy: 0.9203\n"
     ]
    },
    {
     "data": {
      "text/plain": [
       "<tensorflow.python.keras.callbacks.History at 0x7f807404eeb8>"
      ]
     },
     "execution_count": 13,
     "metadata": {},
     "output_type": "execute_result"
    }
   ],
   "source": [
    "model.fit(ad_train, ad_y_train, batch_size=32, epochs = 10)"
   ]
  },
  {
   "cell_type": "code",
   "execution_count": 14,
   "metadata": {},
   "outputs": [
    {
     "name": "stdout",
     "output_type": "stream",
     "text": [
      "94/94 [==============================] - 0s 1ms/step - loss: 0.0131 - accuracy: 0.9267\n"
     ]
    },
    {
     "data": {
      "text/plain": [
       "[0.013093532994389534, 0.9266666769981384]"
      ]
     },
     "execution_count": 14,
     "metadata": {},
     "output_type": "execute_result"
    }
   ],
   "source": [
    "model.evaluate(x_adversarial[0: 60000, :, :, :], y_train[0 : 60000, :])"
   ]
  },
  {
   "cell_type": "code",
   "execution_count": 18,
   "metadata": {},
   "outputs": [],
   "source": [
    "test_preds = []\n",
    "test_adversarial = np.zeros((3000, 28, 28, 1))\n",
    "\n",
    "for i in range(3000):\n",
    "    image = x_test[i]\n",
    "    image_label = y_test[i]\n",
    "    \n",
    "    perturbations = adversarial_pattern(image.reshape((1, img_rows, img_cols, channels)), image_label).numpy()\n",
    "    adversarial = image + perturbations * 0.05\n",
    "    test_adversarial[i, :, :, :] = adversarial\n",
    "    test_preds.append(model.predict(adversarial).argmax())"
   ]
  },
  {
   "cell_type": "code",
   "execution_count": 19,
   "metadata": {},
   "outputs": [
    {
     "data": {
      "text/plain": [
       "(3000, 28, 28, 1)"
      ]
     },
     "execution_count": 19,
     "metadata": {},
     "output_type": "execute_result"
    }
   ],
   "source": [
    "test_adversarial.shape"
   ]
  },
  {
   "cell_type": "code",
   "execution_count": 20,
   "metadata": {},
   "outputs": [
    {
     "name": "stdout",
     "output_type": "stream",
     "text": [
      "94/94 [==============================] - 0s 990us/step - loss: 0.0699 - accuracy: 0.5997\n"
     ]
    },
    {
     "data": {
      "text/plain": [
       "[0.0698622614145279, 0.5996666550636292]"
      ]
     },
     "execution_count": 20,
     "metadata": {},
     "output_type": "execute_result"
    }
   ],
   "source": [
    "#So accuracy has increased to 61% from 20%. Major Improvement! But that's still not enough. Still 40% of the time, the model is horribly wrong.\n",
    "model.evaluate(test_adversarial, y_test[0 : 3000, :])"
   ]
  },
  {
   "cell_type": "code",
   "execution_count": 16,
   "metadata": {},
   "outputs": [
    {
     "name": "stdout",
     "output_type": "stream",
     "text": [
      "313/313 [==============================] - 0s 1ms/step - loss: 0.0029 - accuracy: 0.9818\n"
     ]
    },
    {
     "data": {
      "text/plain": [
       "[0.0029318640008568764, 0.9818000197410583]"
      ]
     },
     "execution_count": 16,
     "metadata": {},
     "output_type": "execute_result"
    }
   ],
   "source": [
    "model.evaluate(x_test, y_test)"
   ]
  },
  {
   "cell_type": "code",
   "execution_count": 19,
   "metadata": {},
   "outputs": [],
   "source": [
    "#Saving Model Weights\n",
    "model.save(\"adv_trained_model.hdf5\")"
   ]
  },
  {
   "cell_type": "markdown",
   "metadata": {},
   "source": [
    "The good thing is that after training on the adversarial examples, the model has grown a tolerance towards them, and improves to 61%. However, we are stuck here now, since we can't train the model more, else it will overfit the training data and perform worse."
   ]
  },
  {
   "cell_type": "code",
   "execution_count": 26,
   "metadata": {},
   "outputs": [
    {
     "name": "stdout",
     "output_type": "stream",
     "text": [
      "313/313 [==============================] - 0s 1ms/step - loss: 0.0029 - accuracy: 0.9818\n"
     ]
    },
    {
     "data": {
      "text/plain": [
       "[0.0029318640008568764, 0.9818000197410583]"
      ]
     },
     "execution_count": 26,
     "metadata": {},
     "output_type": "execute_result"
    }
   ],
   "source": [
    "model = create_baseline_model()\n",
    "\n",
    "model.load_weights(filepath='./baseline_model.hdf5')\n",
    "model.compile(optimizer='adam', loss='mse', metrics=['accuracy'])\n",
    "# Check if model is imported correctly. Accuracy should be 0.981800019\n",
    "model.evaluate(x_test, y_test)"
   ]
  },
  {
   "cell_type": "code",
   "execution_count": 21,
   "metadata": {},
   "outputs": [],
   "source": [
    "anti_noise_preds = []\n",
    "noise_adversarial = np.zeros((3000, 28, 28, 1))\n",
    "\n",
    "for i in range(3000):\n",
    "    image = x_test[i]\n",
    "    image_label = y_test[i]\n",
    "    \n",
    "    perturbations = adversarial_pattern(image.reshape((1, img_rows, img_cols, channels)), image_label).numpy()\n",
    "    adversarial = image + perturbations * 0.1\n",
    "    adversarial = adversarial>0.3\n",
    "    noise_adversarial[i, :, :, :] = adversarial\n",
    "    anti_noise_preds.append(model.predict(adversarial).argmax())"
   ]
  },
  {
   "cell_type": "code",
   "execution_count": 22,
   "metadata": {},
   "outputs": [
    {
     "name": "stdout",
     "output_type": "stream",
     "text": [
      "94/94 [==============================] - 0s 1ms/step - loss: 0.0146 - accuracy: 0.9140\n"
     ]
    },
    {
     "data": {
      "text/plain": [
       "[0.014571293257176876, 0.9139999747276306]"
      ]
     },
     "execution_count": 22,
     "metadata": {},
     "output_type": "execute_result"
    }
   ],
   "source": [
    "model.evaluate(noise_adversarial, y_test[0 : 3000, :])"
   ]
  },
  {
   "cell_type": "markdown",
   "metadata": {},
   "source": [
    "So it looks like denoising is amazing! It increases the accuracy to 91%. That's almost perfect - but now let's see how it holds against increased noise."
   ]
  },
  {
   "cell_type": "code",
   "execution_count": 23,
   "metadata": {},
   "outputs": [],
   "source": [
    "anti_noise_preds = []\n",
    "noise_adversarial = np.zeros((3000, 28, 28, 1))\n",
    "no_noise_adversarial = np.zeros((3000, 28, 28, 1))\n",
    "\n",
    "for i in range(3000):\n",
    "    image = x_test[i]\n",
    "    image_label = y_test[i]\n",
    "    \n",
    "    perturbations = adversarial_pattern(image.reshape((1, img_rows, img_cols, channels)), image_label).numpy()\n",
    "    adversarial = image + perturbations * 0.3\n",
    "    no_noise_adversarial[i, :, :, :] = adversarial\n",
    "    adversarial = adversarial>0.3\n",
    "    noise_adversarial[i, :, :, :] = adversarial\n",
    "    anti_noise_preds.append(model.predict(adversarial).argmax())"
   ]
  },
  {
   "cell_type": "code",
   "execution_count": 24,
   "metadata": {},
   "outputs": [
    {
     "data": {
      "text/plain": [
       "<matplotlib.image.AxesImage at 0x7f80742d3630>"
      ]
     },
     "execution_count": 24,
     "metadata": {},
     "output_type": "execute_result"
    },
    {
     "data": {
      "image/png": "[encoded data removed]",
      "text/plain": [
       "<Figure size 432x288 with 1 Axes>"
      ]
     },
     "metadata": {
      "needs_background": "light"
     },
     "output_type": "display_data"
    }
   ],
   "source": [
    "plt.imshow(no_noise_adversarial[0, :, :, :].reshape((img_rows, img_cols)))"
   ]
  },
  {
   "cell_type": "code",
   "execution_count": 25,
   "metadata": {},
   "outputs": [
    {
     "data": {
      "text/plain": [
       "<matplotlib.image.AxesImage at 0x7f8073408d68>"
      ]
     },
     "execution_count": 25,
     "metadata": {},
     "output_type": "execute_result"
    },
    {
     "data": {
      "image/png": "[encoded data removed]",
      "text/plain": [
       "<Figure size 432x288 with 1 Axes>"
      ]
     },
     "metadata": {
      "needs_background": "light"
     },
     "output_type": "display_data"
    }
   ],
   "source": [
    "plt.imshow(noise_adversarial[0, :, :, :].reshape((img_rows, img_cols)))"
   ]
  },
  {
   "cell_type": "code",
   "execution_count": 26,
   "metadata": {},
   "outputs": [
    {
     "name": "stdout",
     "output_type": "stream",
     "text": [
      "94/94 [==============================] - 0s 1ms/step - loss: 0.1768 - accuracy: 0.0473\n"
     ]
    },
    {
     "data": {
      "text/plain": [
       "[0.17678509652614594, 0.047333333641290665]"
      ]
     },
     "execution_count": 26,
     "metadata": {},
     "output_type": "execute_result"
    }
   ],
   "source": [
    "model.evaluate(noise_adversarial, y_test[0 : 3000, :])"
   ]
  },
  {
   "cell_type": "markdown",
   "metadata": {},
   "source": [
    "About 5 percent. That's horrible - increasing the noise by a little completely ruined the model's performance. Hence, although this binary thresholding is the best approach we currently have, it won't be good enough since a small change can ruin it. Now we see the need for a more robust system. As I have shown, using current techniques doesn't help much since it isn't robust.\n",
    "Firstly, I will be trying out a filtering technique, which aims to identify and exclude adversarial examples from even enterring the model. The first filtering technique which was tried above was denoising, but we can see that this isn't particularly robust to different amounts of noise. Let's train a NN to predict whether or not a datapoint is adversarial. Then we can decline potentially harmful examples.\n",
    "\n",
    "First thing to do is to generate the training and testing data for the model. I will try out different noise levels for the test dataset to see if the model generalizes."
   ]
  },
  {
   "cell_type": "code",
   "execution_count": 27,
   "metadata": {},
   "outputs": [],
   "source": [
    "adv_train = np.zeros((3000, 28, 28, 1))\n",
    "\n",
    "adv_test = np.zeros((3000, 28, 28, 1))\n",
    "y_adv_train = np.zeros((6000, 1))\n",
    "y_adv_test = np.zeros((6000, 1))\n",
    "\n",
    "for i in range(3000):\n",
    "    image = x_train[i]\n",
    "    image_label = y_train[i]\n",
    "    \n",
    "    perturbations = adversarial_pattern(image.reshape((1, img_rows, img_cols, channels)), image_label).numpy()\n",
    "    \n",
    "    image_test = x_test[i]\n",
    "    image_label_test = y_test[i]\n",
    "    \n",
    "    perturbations_test = adversarial_pattern(image_test.reshape((1, img_rows, img_cols, channels)), image_label_test).numpy()\n",
    "\n",
    "    if i > 1499:\n",
    "        adversarial = image + perturbations * 0.1\n",
    "        adv_train[i] = adversarial\n",
    "        \n",
    "        adversarial = image_test + perturbations_test * 0.1\n",
    "        adv_test[i] = adversarial\n",
    "        \n",
    "    else:\n",
    "        adversarial = image + perturbations * 0.3\n",
    "        adv_train[i] = adversarial\n",
    "        \n",
    "        adversarial = image_test + perturbations_test * 0.4\n",
    "        adv_test[i] = adversarial\n",
    "    \n",
    "    y_adv_train[i] = 1\n",
    "    y_adv_test[i] = 1\n",
    "    \n",
    "fin_adv_train = np.concatenate((adv_train, x_train[3000 : 6000, :, :, :]))\n",
    "\n",
    "fin_adv_test = np.concatenate((adv_test, x_test[3000 : 6000, :, :, :]))"
   ]
  },
  {
   "cell_type": "code",
   "execution_count": 28,
   "metadata": {},
   "outputs": [
    {
     "name": "stdout",
     "output_type": "stream",
     "text": [
      "Shapes of final data are \n",
      "((6000, 28, 28, 1), (6000, 1), (6000, 28, 28, 1), (6000, 1))\n"
     ]
    }
   ],
   "source": [
    "print(\"Shapes of final data are \")\n",
    "print((fin_adv_train.shape, y_adv_train.shape, fin_adv_test.shape, y_adv_test.shape))"
   ]
  },
  {
   "cell_type": "code",
   "execution_count": 29,
   "metadata": {},
   "outputs": [
    {
     "data": {
      "text/plain": [
       "<matplotlib.image.AxesImage at 0x7f8073b17048>"
      ]
     },
     "execution_count": 29,
     "metadata": {},
     "output_type": "execute_result"
    },
    {
     "data": {
      "image/png": "[encoded data removed]",
      "text/plain": [
       "<Figure size 432x288 with 1 Axes>"
      ]
     },
     "metadata": {
      "needs_background": "light"
     },
     "output_type": "display_data"
    }
   ],
   "source": [
    "#checking to see if data is as desired.\n",
    "plt.imshow(fin_adv_train[3000, :, :, :].reshape(28, 28))"
   ]
  },
  {
   "cell_type": "code",
   "execution_count": 30,
   "metadata": {},
   "outputs": [],
   "source": [
    "def adv_classifier():\n",
    "    X_Input = Input((img_rows, img_cols, channels))\n",
    "    X = Conv2D(32, kernel_size=(3, 3), strides=(3, 3), padding='same', activation='relu')(X_Input)\n",
    "    X = Conv2D(64, kernel_size=(3, 3), strides=(3, 3), padding='same', activation='relu')(X)\n",
    "    X = MaxPooling2D(pool_size=(2, 2))(X)\n",
    "    X = Dropout(0.2)(X)\n",
    "    X = Flatten()(X)\n",
    "    X = Dense(32)(X)\n",
    "    X = Dropout(0.2)(X)\n",
    "    X = Dense(1, activation='sigmoid')(X)\n",
    "    \n",
    "    adv_model = Model(inputs = X_Input, outputs = X)\n",
    "    return adv_model"
   ]
  },
  {
   "cell_type": "code",
   "execution_count": 31,
   "metadata": {
    "scrolled": true
   },
   "outputs": [
    {
     "name": "stdout",
     "output_type": "stream",
     "text": [
      "Model: \"model_2\"\n",
      "_________________________________________________________________\n",
      "Layer (type)                 Output Shape              Param #   \n",
      "=================================================================\n",
      "input_3 (InputLayer)         [(None, 28, 28, 1)]       0         \n",
      "_________________________________________________________________\n",
      "conv2d_6 (Conv2D)            (None, 10, 10, 32)        320       \n",
      "_________________________________________________________________\n",
      "conv2d_7 (Conv2D)            (None, 4, 4, 64)          18496     \n",
      "_________________________________________________________________\n",
      "max_pooling2d_2 (MaxPooling2 (None, 2, 2, 64)          0         \n",
      "_________________________________________________________________\n",
      "dropout_6 (Dropout)          (None, 2, 2, 64)          0         \n",
      "_________________________________________________________________\n",
      "flatten_2 (Flatten)          (None, 256)               0         \n",
      "_________________________________________________________________\n",
      "dense_6 (Dense)              (None, 32)                8224      \n",
      "_________________________________________________________________\n",
      "dropout_7 (Dropout)          (None, 32)                0         \n",
      "_________________________________________________________________\n",
      "dense_7 (Dense)              (None, 1)                 33        \n",
      "=================================================================\n",
      "Total params: 27,073\n",
      "Trainable params: 27,073\n",
      "Non-trainable params: 0\n",
      "_________________________________________________________________\n"
     ]
    }
   ],
   "source": [
    "adv_model = adv_classifier()\n",
    "adv_model.compile(optimizer='adam', loss='binary_crossentropy', metrics=['accuracy'])\n",
    "adv_model.summary()"
   ]
  },
  {
   "cell_type": "code",
   "execution_count": 32,
   "metadata": {
    "scrolled": false
   },
   "outputs": [
    {
     "name": "stdout",
     "output_type": "stream",
     "text": [
      "Epoch 1/10\n",
      "188/188 [==============================] - 1s 3ms/step - loss: 0.1655 - accuracy: 0.9345\n",
      "Epoch 2/10\n",
      "188/188 [==============================] - 1s 3ms/step - loss: 0.0013 - accuracy: 1.0000\n",
      "Epoch 3/10\n",
      "188/188 [==============================] - 1s 3ms/step - loss: 3.7465e-04 - accuracy: 1.0000\n",
      "Epoch 4/10\n",
      "188/188 [==============================] - 1s 3ms/step - loss: 1.8127e-04 - accuracy: 1.0000\n",
      "Epoch 5/10\n",
      "188/188 [==============================] - 1s 3ms/step - loss: 7.9648e-05 - accuracy: 1.0000\n",
      "Epoch 6/10\n",
      "188/188 [==============================] - 1s 3ms/step - loss: 7.0082e-05 - accuracy: 1.0000\n",
      "Epoch 7/10\n",
      "188/188 [==============================] - 1s 3ms/step - loss: 5.0723e-05 - accuracy: 1.0000\n",
      "Epoch 8/10\n",
      "188/188 [==============================] - 1s 3ms/step - loss: 3.0002e-05 - accuracy: 1.0000\n",
      "Epoch 9/10\n",
      "188/188 [==============================] - 1s 3ms/step - loss: 2.6075e-05 - accuracy: 1.0000\n",
      "Epoch 10/10\n",
      "188/188 [==============================] - 1s 3ms/step - loss: 2.0114e-05 - accuracy: 1.0000\n"
     ]
    }
   ],
   "source": [
    "history = adv_model.fit(fin_adv_train, y_adv_train, batch_size=32, epochs=10)"
   ]
  },
  {
   "cell_type": "code",
   "execution_count": 33,
   "metadata": {},
   "outputs": [
    {
     "name": "stdout",
     "output_type": "stream",
     "text": [
      "188/188 [==============================] - 0s 2ms/step - loss: 8.4749e-06 - accuracy: 1.0000\n"
     ]
    },
    {
     "data": {
      "text/plain": [
       "[8.47487444843864e-06, 1.0]"
      ]
     },
     "execution_count": 33,
     "metadata": {},
     "output_type": "execute_result"
    }
   ],
   "source": [
    "adv_model.evaluate(fin_adv_test, y_adv_test)"
   ]
  },
  {
   "cell_type": "code",
   "execution_count": 34,
   "metadata": {},
   "outputs": [],
   "source": [
    "a = adv_model.predict(fin_adv_test)"
   ]
  },
  {
   "cell_type": "code",
   "execution_count": 35,
   "metadata": {},
   "outputs": [
    {
     "data": {
      "text/plain": [
       "array([[1.0000000e+00],\n",
       "       [1.0000000e+00],\n",
       "       [1.0000000e+00],\n",
       "       ...,\n",
       "       [1.3129377e-06],\n",
       "       [2.1377024e-05],\n",
       "       [6.4337117e-05]], dtype=float32)"
      ]
     },
     "execution_count": 35,
     "metadata": {},
     "output_type": "execute_result"
    }
   ],
   "source": [
    "a"
   ]
  },
  {
   "cell_type": "code",
   "execution_count": 36,
   "metadata": {},
   "outputs": [
    {
     "name": "stdout",
     "output_type": "stream",
     "text": [
      "188/188 [==============================] - 0s 2ms/step - loss: 0.0861 - accuracy: 0.5338\n"
     ]
    },
    {
     "data": {
      "text/plain": [
       "[0.08614670485258102, 0.5338333249092102]"
      ]
     },
     "execution_count": 36,
     "metadata": {},
     "output_type": "execute_result"
    }
   ],
   "source": [
    "#before adding model safecatch\n",
    "model.evaluate(fin_adv_test, y_test[0 : 6000, :])"
   ]
  },
  {
   "cell_type": "code",
   "execution_count": 113,
   "metadata": {},
   "outputs": [
    {
     "name": "stdout",
     "output_type": "stream",
     "text": [
      "accuracy = 0.9796666666666667\n"
     ]
    }
   ],
   "source": [
    "#adding model safecatch\n",
    "model_safe = adv_model.predict(fin_adv_test)\n",
    "correct = 0\n",
    "counter = 0\n",
    "for i in range(len(model_safe)):\n",
    "    if model_safe[i] > 0.5:\n",
    "        pass\n",
    "    else:\n",
    "        mod_pred = model.predict(fin_adv_test[i, :, :, :].reshape(-1, 28, 28, 1)).argmax()\n",
    "        if mod_pred == y_test[i].argmax():\n",
    "            correct += 1\n",
    "        counter += 1\n",
    "print('accuracy = ' + str(correct / counter))"
   ]
  },
  {
   "cell_type": "markdown",
   "metadata": {},
   "source": [
    "We can see that the model's accuracy has gone back up. The reason for this is that our model for filtering adversarial examples was very good. The problem is that we now have to run 2 models instead of 1, and in many applications, this is too slow."
   ]
  },
  {
   "cell_type": "code",
   "execution_count": 50,
   "metadata": {
    "scrolled": true
   },
   "outputs": [
    {
     "name": "stdout",
     "output_type": "stream",
     "text": [
      "Collecting foolbox==3.0.0b1\n",
      "  Downloading foolbox-3.0.0b1-py3-none-any.whl (1.6 MB)\n",
      "\u001b[K     |████████████████████████████████| 1.6 MB 2.8 MB/s eta 0:00:01\n",
      "\u001b[?25hRequirement already satisfied: numpy in /Users/yush/anaconda3/lib/python3.7/site-packages (from foolbox==3.0.0b1) (1.18.5)\n",
      "Collecting typing-extensions>=3.7.4.1\n",
      "  Downloading typing_extensions-3.7.4.2-py3-none-any.whl (22 kB)\n",
      "Collecting eagerpy==0.25.2\n",
      "  Downloading eagerpy-0.25.2-py3-none-any.whl (28 kB)\n",
      "Requirement already satisfied: scipy in /Users/yush/anaconda3/lib/python3.7/site-packages (from foolbox==3.0.0b1) (1.4.1)\n",
      "Requirement already satisfied: setuptools in /Users/yush/anaconda3/lib/python3.7/site-packages (from foolbox==3.0.0b1) (41.0.1)\n",
      "Collecting GitPython>=3.0.7\n",
      "  Downloading GitPython-3.1.3-py3-none-any.whl (451 kB)\n",
      "\u001b[K     |████████████████████████████████| 451 kB 3.3 MB/s eta 0:00:01\n",
      "\u001b[?25hCollecting gitdb<5,>=4.0.1\n",
      "  Downloading gitdb-4.0.5-py3-none-any.whl (63 kB)\n",
      "\u001b[K     |████████████████████████████████| 63 kB 2.3 MB/s eta 0:00:011\n",
      "\u001b[?25hCollecting smmap<4,>=3.0.1\n",
      "  Downloading smmap-3.0.4-py2.py3-none-any.whl (25 kB)\n",
      "Installing collected packages: typing-extensions, eagerpy, smmap, gitdb, GitPython, foolbox\n",
      "Successfully installed GitPython-3.1.3 eagerpy-0.25.2 foolbox-3.0.0b1 gitdb-4.0.5 smmap-3.0.4 typing-extensions-3.7.4.2\n",
      "\u001b[33mWARNING: You are using pip version 20.1; however, version 20.1.1 is available.\n",
      "You should consider upgrading via the '/Users/yush/anaconda3/bin/python -m pip install --upgrade pip' command.\u001b[0m\n"
     ]
    }
   ],
   "source": [
    "!pip3 install foolbox==3.0.0b1"
   ]
  },
  {
   "cell_type": "code",
   "execution_count": 51,
   "metadata": {},
   "outputs": [],
   "source": [
    "import foolbox as fb"
   ]
  },
  {
   "cell_type": "code",
   "execution_count": 52,
   "metadata": {},
   "outputs": [
    {
     "name": "stdout",
     "output_type": "stream",
     "text": [
      "WARNING:tensorflow:From /Users/yush/anaconda3/lib/python3.7/site-packages/foolbox/models/tensorflow.py:13: is_gpu_available (from tensorflow.python.framework.test_util) is deprecated and will be removed in a future version.\n",
      "Instructions for updating:\n",
      "Use `tf.config.list_physical_devices('GPU')` instead.\n"
     ]
    }
   ],
   "source": [
    "preprocessing = dict()\n",
    "bounds = (0, 1)\n",
    "fmodel = fb.TensorFlowModel(model, bounds=bounds, preprocessing=preprocessing)"
   ]
  },
  {
   "cell_type": "code",
   "execution_count": 193,
   "metadata": {},
   "outputs": [],
   "source": [
    "images, labels = fb.utils.samples(fmodel, dataset='mnist', batchsize=20)"
   ]
  },
  {
   "cell_type": "code",
   "execution_count": 194,
   "metadata": {},
   "outputs": [
    {
     "data": {
      "text/plain": [
       "0.949999988079071"
      ]
     },
     "execution_count": 194,
     "metadata": {},
     "output_type": "execute_result"
    }
   ],
   "source": [
    "fb.utils.accuracy(fmodel, images, labels)"
   ]
  },
  {
   "cell_type": "code",
   "execution_count": 195,
   "metadata": {},
   "outputs": [],
   "source": [
    "#attack = fb.attacks.LinfDeepFoolAttack()\n",
    "attack = fb.attacks.LinfPGD()\n",
    "epsilons = [0.0, 0.001, 0.01, 0.03, 0.1, 0.3, 0.5, 1.0]"
   ]
  },
  {
   "cell_type": "code",
   "execution_count": 196,
   "metadata": {},
   "outputs": [],
   "source": [
    "#raw, clipped, is_adv = attack(fmodel, images, labels, epsilons=-1)\n",
    "_, advs, success = attack(fmodel, images, labels, epsilons=epsilons)"
   ]
  },
  {
   "cell_type": "code",
   "execution_count": 220,
   "metadata": {},
   "outputs": [
    {
     "data": {
      "text/plain": [
       "<tf.Tensor: shape=(8, 20), dtype=bool, numpy=\n",
       "array([[False, False, False, False, False, False, False, False, False,\n",
       "        False, False, False, False, False, False, False, False, False,\n",
       "         True, False],\n",
       "       [False, False, False, False, False, False, False, False, False,\n",
       "        False, False, False, False, False, False, False, False, False,\n",
       "         True, False],\n",
       "       [False, False, False, False, False, False, False, False, False,\n",
       "        False, False, False, False, False, False, False, False, False,\n",
       "         True, False],\n",
       "       [False, False, False, False, False, False,  True, False, False,\n",
       "        False, False, False, False, False, False, False, False, False,\n",
       "         True, False],\n",
       "       [ True, False,  True,  True,  True, False,  True,  True,  True,\n",
       "         True, False,  True,  True,  True, False, False, False,  True,\n",
       "         True,  True],\n",
       "       [ True,  True,  True,  True,  True,  True,  True,  True,  True,\n",
       "         True,  True,  True,  True,  True,  True,  True,  True,  True,\n",
       "         True,  True],\n",
       "       [ True,  True,  True,  True,  True,  True,  True,  True,  True,\n",
       "         True,  True,  True,  True,  True,  True,  True,  True,  True,\n",
       "         True,  True],\n",
       "       [ True,  True,  True,  True,  True,  True,  True,  True,  True,\n",
       "         True,  True,  True,  True,  True,  True,  True,  True,  True,\n",
       "         True,  True]])>"
      ]
     },
     "execution_count": 220,
     "metadata": {},
     "output_type": "execute_result"
    }
   ],
   "source": [
    "success"
   ]
  },
  {
   "cell_type": "code",
   "execution_count": 206,
   "metadata": {},
   "outputs": [],
   "source": [
    "advss = np.array(advs)"
   ]
  },
  {
   "cell_type": "code",
   "execution_count": 241,
   "metadata": {},
   "outputs": [
    {
     "data": {
      "text/plain": [
       "<matplotlib.image.AxesImage at 0x7f7f3941cf98>"
      ]
     },
     "execution_count": 241,
     "metadata": {},
     "output_type": "execute_result"
    },
    {
     "data": {
      "image/png": "[encoded data removed]",
      "text/plain": [
       "<Figure size 432x288 with 1 Axes>"
      ]
     },
     "metadata": {
      "needs_background": "light"
     },
     "output_type": "display_data"
    }
   ],
   "source": [
    "plt.imshow(advss[4, 0, :, :, :].reshape(28, 28))"
   ]
  },
  {
   "cell_type": "code",
   "execution_count": 216,
   "metadata": {},
   "outputs": [],
   "source": [
    "advsss = advss.reshape(20*8, 28, 28, 1)\n",
    "ad_labls = np.zeros((160,))\n",
    "ad_labls[80 : 160] = np.ones((80,))"
   ]
  },
  {
   "cell_type": "code",
   "execution_count": 238,
   "metadata": {},
   "outputs": [
    {
     "name": "stdout",
     "output_type": "stream",
     "text": [
      "5/5 [==============================] - 0s 1ms/step - loss: 4.7090 - accuracy: 0.5000\n"
     ]
    },
    {
     "data": {
      "text/plain": [
       "[4.709028720855713, 0.5]"
      ]
     },
     "execution_count": 238,
     "metadata": {},
     "output_type": "execute_result"
    }
   ],
   "source": [
    "adv_model.evaluate(advsss, ad_labls) \n",
    "#Extremely bad filtering model against different type of attack"
   ]
  },
  {
   "cell_type": "code",
   "execution_count": 190,
   "metadata": {},
   "outputs": [
    {
     "data": {
      "text/plain": [
       "(20, 28, 28, 1)"
      ]
     },
     "execution_count": 190,
     "metadata": {},
     "output_type": "execute_result"
    }
   ],
   "source": [
    "raw_np = raw.numpy()\n",
    "raw_np.shape\n",
    "imagess = images.numpy()\n",
    "labelss = tf.keras.utils.to_categorical(labels.numpy(), num_classes)\n",
    "count = 0\n",
    "for i in range(20):\n",
    "    pred = model.predict(raw_np[i, :, :, :].reshape(-1, 28, 28, 1)).argmax()\n",
    "    if pred == labels[i]:\n",
    "        count += 1\n",
    "print(\"Accuracy is \" + str(count / 20))\n",
    "is_adv_try = is_adv.numpy().astype('int')\n",
    "adv_model.evaluate(raw_np, np.ones((20,)))"
   ]
  },
  {
   "cell_type": "markdown",
   "metadata": {},
   "source": [
    "After this experiment, we can see that this filtering model is robust to different noise levels, but not very robust to different methods of attacks. We can see that against another gradient based attack, our filtering model was only able to filter out 80% of images. The other 20% still got through, meaning that a hacker may have to now try 4-5 attacks for atleast 1 to work. However, this is also not safe enough, since the model (once the image passes the filter), is guaranteed to get it wrong. \n",
    "\n",
    "Although we can use this as a filtering step when our application permits, we need a better approach."
   ]
  },
  {
   "cell_type": "markdown",
   "metadata": {},
   "source": [
    "Now I will try to normalize all of the inputs to the layers of the neural network. Maybe, by standardizing inputs, we can reduce the impact a single pixel has, and hopefully make such models less suceptible."
   ]
  },
  {
   "cell_type": "code",
   "execution_count": 125,
   "metadata": {},
   "outputs": [],
   "source": [
    "from tensorflow.keras.layers import BatchNormalization"
   ]
  },
  {
   "cell_type": "code",
   "execution_count": 50,
   "metadata": {},
   "outputs": [],
   "source": [
    "#Adding BatchNormalization After every input\n",
    "def create_batchnorm_model():\n",
    "    X_Input = Input((img_rows, img_cols, channels))\n",
    "    X = Conv2D(32, kernel_size=(3, 3), strides=(3, 3), padding='same', activation='relu')(X_Input)\n",
    "    X = BatchNormalization()(X, training=True)#\n",
    "    X = Conv2D(64, kernel_size=(3, 3), strides=(3, 3), padding='same', activation='relu')(X)\n",
    "    X = BatchNormalization()(X, training=True)#\n",
    "    X = Conv2D(64, kernel_size=(3, 3), strides=(3, 3), padding='same', activation='relu')(X)\n",
    "    X = MaxPooling2D(pool_size=(2, 2))(X)\n",
    "    X = BatchNormalization()(X, training=True)#\n",
    "    X = Dropout(0.2)(X)\n",
    "    X = Flatten()(X)\n",
    "    X = Dense(32)(X)\n",
    "    X = BatchNormalization()(X, training=True)#\n",
    "    X = Dropout(0.2)(X)\n",
    "    X = Dense(32)(X)\n",
    "    X = BatchNormalization()(X, training=True)#\n",
    "    X = Dropout(0.2)(X)\n",
    "    X = Dense(num_classes, activation='softmax')(X)\n",
    "    \n",
    "    model = Model(inputs = X_Input, outputs = X)\n",
    "    return model"
   ]
  },
  {
   "cell_type": "code",
   "execution_count": 51,
   "metadata": {
    "scrolled": true
   },
   "outputs": [
    {
     "name": "stdout",
     "output_type": "stream",
     "text": [
      "Model: \"model_6\"\n",
      "_________________________________________________________________\n",
      "Layer (type)                 Output Shape              Param #   \n",
      "=================================================================\n",
      "input_9 (InputLayer)         [(None, 28, 28, 1)]       0         \n",
      "_________________________________________________________________\n",
      "conv2d_21 (Conv2D)           (None, 10, 10, 32)        320       \n",
      "_________________________________________________________________\n",
      "batch_normalization_27 (Batc (None, 10, 10, 32)        128       \n",
      "_________________________________________________________________\n",
      "conv2d_22 (Conv2D)           (None, 4, 4, 64)          18496     \n",
      "_________________________________________________________________\n",
      "batch_normalization_28 (Batc (None, 4, 4, 64)          256       \n",
      "_________________________________________________________________\n",
      "conv2d_23 (Conv2D)           (None, 2, 2, 64)          36928     \n",
      "_________________________________________________________________\n",
      "max_pooling2d_6 (MaxPooling2 (None, 1, 1, 64)          0         \n",
      "_________________________________________________________________\n",
      "batch_normalization_29 (Batc (None, 1, 1, 64)          256       \n",
      "_________________________________________________________________\n",
      "dropout_18 (Dropout)         (None, 1, 1, 64)          0         \n",
      "_________________________________________________________________\n",
      "flatten_6 (Flatten)          (None, 64)                0         \n",
      "_________________________________________________________________\n",
      "dense_18 (Dense)             (None, 32)                2080      \n",
      "_________________________________________________________________\n",
      "batch_normalization_30 (Batc (None, 32)                128       \n",
      "_________________________________________________________________\n",
      "dropout_19 (Dropout)         (None, 32)                0         \n",
      "_________________________________________________________________\n",
      "dense_19 (Dense)             (None, 32)                1056      \n",
      "_________________________________________________________________\n",
      "batch_normalization_31 (Batc (None, 32)                128       \n",
      "_________________________________________________________________\n",
      "dropout_20 (Dropout)         (None, 32)                0         \n",
      "_________________________________________________________________\n",
      "dense_20 (Dense)             (None, 10)                330       \n",
      "=================================================================\n",
      "Total params: 60,106\n",
      "Trainable params: 59,658\n",
      "Non-trainable params: 448\n",
      "_________________________________________________________________\n"
     ]
    }
   ],
   "source": [
    "batch_model = create_batchnorm_model()\n",
    "batch_model.compile(optimizer='adam', loss='mse', metrics=['accuracy'])\n",
    "batch_model.summary()"
   ]
  },
  {
   "cell_type": "code",
   "execution_count": 52,
   "metadata": {
    "scrolled": true
   },
   "outputs": [
    {
     "name": "stdout",
     "output_type": "stream",
     "text": [
      "Epoch 1/20\n",
      "1875/1875 [==============================] - 11s 6ms/step - loss: 0.0156 - accuracy: 0.8971 - val_loss: 0.0049 - val_accuracy: 0.9683\n",
      "Epoch 2/20\n",
      "1875/1875 [==============================] - 11s 6ms/step - loss: 0.0070 - accuracy: 0.9551 - val_loss: 0.0045 - val_accuracy: 0.9713\n",
      "Epoch 3/20\n",
      " 509/1875 [=======>......................] - ETA: 8s - loss: 0.0059 - accuracy: 0.9623"
     ]
    },
    {
     "ename": "KeyboardInterrupt",
     "evalue": "",
     "output_type": "error",
     "traceback": [
      "\u001b[0;31m---------------------------------------------------------------------------\u001b[0m",
      "\u001b[0;31mKeyboardInterrupt\u001b[0m                         Traceback (most recent call last)",
      "\u001b[0;32m<ipython-input-52-5eecde6e6bea>\u001b[0m in \u001b[0;36m<module>\u001b[0;34m\u001b[0m\n\u001b[0;32m----> 1\u001b[0;31m \u001b[0mhistory\u001b[0m \u001b[0;34m=\u001b[0m \u001b[0mbatch_model\u001b[0m\u001b[0;34m.\u001b[0m\u001b[0mfit\u001b[0m\u001b[0;34m(\u001b[0m\u001b[0mx_train\u001b[0m\u001b[0;34m,\u001b[0m \u001b[0my_train\u001b[0m\u001b[0;34m,\u001b[0m \u001b[0mbatch_size\u001b[0m\u001b[0;34m=\u001b[0m\u001b[0;36m32\u001b[0m\u001b[0;34m,\u001b[0m \u001b[0mepochs\u001b[0m\u001b[0;34m=\u001b[0m\u001b[0;36m20\u001b[0m\u001b[0;34m,\u001b[0m \u001b[0mvalidation_data\u001b[0m \u001b[0;34m=\u001b[0m \u001b[0;34m(\u001b[0m\u001b[0mx_test\u001b[0m\u001b[0;34m,\u001b[0m \u001b[0my_test\u001b[0m\u001b[0;34m)\u001b[0m\u001b[0;34m)\u001b[0m\u001b[0;34m\u001b[0m\u001b[0;34m\u001b[0m\u001b[0m\n\u001b[0m",
      "\u001b[0;32m~/anaconda3/lib/python3.7/site-packages/tensorflow/python/keras/engine/training.py\u001b[0m in \u001b[0;36m_method_wrapper\u001b[0;34m(self, *args, **kwargs)\u001b[0m\n\u001b[1;32m     64\u001b[0m   \u001b[0;32mdef\u001b[0m \u001b[0m_method_wrapper\u001b[0m\u001b[0;34m(\u001b[0m\u001b[0mself\u001b[0m\u001b[0;34m,\u001b[0m \u001b[0;34m*\u001b[0m\u001b[0margs\u001b[0m\u001b[0;34m,\u001b[0m \u001b[0;34m**\u001b[0m\u001b[0mkwargs\u001b[0m\u001b[0;34m)\u001b[0m\u001b[0;34m:\u001b[0m\u001b[0;34m\u001b[0m\u001b[0;34m\u001b[0m\u001b[0m\n\u001b[1;32m     65\u001b[0m     \u001b[0;32mif\u001b[0m \u001b[0;32mnot\u001b[0m \u001b[0mself\u001b[0m\u001b[0;34m.\u001b[0m\u001b[0m_in_multi_worker_mode\u001b[0m\u001b[0;34m(\u001b[0m\u001b[0;34m)\u001b[0m\u001b[0;34m:\u001b[0m  \u001b[0;31m# pylint: disable=protected-access\u001b[0m\u001b[0;34m\u001b[0m\u001b[0;34m\u001b[0m\u001b[0m\n\u001b[0;32m---> 66\u001b[0;31m       \u001b[0;32mreturn\u001b[0m \u001b[0mmethod\u001b[0m\u001b[0;34m(\u001b[0m\u001b[0mself\u001b[0m\u001b[0;34m,\u001b[0m \u001b[0;34m*\u001b[0m\u001b[0margs\u001b[0m\u001b[0;34m,\u001b[0m \u001b[0;34m**\u001b[0m\u001b[0mkwargs\u001b[0m\u001b[0;34m)\u001b[0m\u001b[0;34m\u001b[0m\u001b[0;34m\u001b[0m\u001b[0m\n\u001b[0m\u001b[1;32m     67\u001b[0m \u001b[0;34m\u001b[0m\u001b[0m\n\u001b[1;32m     68\u001b[0m     \u001b[0;31m# Running inside `run_distribute_coordinator` already.\u001b[0m\u001b[0;34m\u001b[0m\u001b[0;34m\u001b[0m\u001b[0;34m\u001b[0m\u001b[0m\n",
      "\u001b[0;32m~/anaconda3/lib/python3.7/site-packages/tensorflow/python/keras/engine/training.py\u001b[0m in \u001b[0;36mfit\u001b[0;34m(self, x, y, batch_size, epochs, verbose, callbacks, validation_split, validation_data, shuffle, class_weight, sample_weight, initial_epoch, steps_per_epoch, validation_steps, validation_batch_size, validation_freq, max_queue_size, workers, use_multiprocessing)\u001b[0m\n\u001b[1;32m    846\u001b[0m                 batch_size=batch_size):\n\u001b[1;32m    847\u001b[0m               \u001b[0mcallbacks\u001b[0m\u001b[0;34m.\u001b[0m\u001b[0mon_train_batch_begin\u001b[0m\u001b[0;34m(\u001b[0m\u001b[0mstep\u001b[0m\u001b[0;34m)\u001b[0m\u001b[0;34m\u001b[0m\u001b[0;34m\u001b[0m\u001b[0m\n\u001b[0;32m--> 848\u001b[0;31m               \u001b[0mtmp_logs\u001b[0m \u001b[0;34m=\u001b[0m \u001b[0mtrain_function\u001b[0m\u001b[0;34m(\u001b[0m\u001b[0miterator\u001b[0m\u001b[0;34m)\u001b[0m\u001b[0;34m\u001b[0m\u001b[0;34m\u001b[0m\u001b[0m\n\u001b[0m\u001b[1;32m    849\u001b[0m               \u001b[0;31m# Catch OutOfRangeError for Datasets of unknown size.\u001b[0m\u001b[0;34m\u001b[0m\u001b[0;34m\u001b[0m\u001b[0;34m\u001b[0m\u001b[0m\n\u001b[1;32m    850\u001b[0m               \u001b[0;31m# This blocks until the batch has finished executing.\u001b[0m\u001b[0;34m\u001b[0m\u001b[0;34m\u001b[0m\u001b[0;34m\u001b[0m\u001b[0m\n",
      "\u001b[0;32m~/anaconda3/lib/python3.7/site-packages/tensorflow/python/eager/def_function.py\u001b[0m in \u001b[0;36m__call__\u001b[0;34m(self, *args, **kwds)\u001b[0m\n\u001b[1;32m    578\u001b[0m         \u001b[0mxla_context\u001b[0m\u001b[0;34m.\u001b[0m\u001b[0mExit\u001b[0m\u001b[0;34m(\u001b[0m\u001b[0;34m)\u001b[0m\u001b[0;34m\u001b[0m\u001b[0;34m\u001b[0m\u001b[0m\n\u001b[1;32m    579\u001b[0m     \u001b[0;32melse\u001b[0m\u001b[0;34m:\u001b[0m\u001b[0;34m\u001b[0m\u001b[0;34m\u001b[0m\u001b[0m\n\u001b[0;32m--> 580\u001b[0;31m       \u001b[0mresult\u001b[0m \u001b[0;34m=\u001b[0m \u001b[0mself\u001b[0m\u001b[0;34m.\u001b[0m\u001b[0m_call\u001b[0m\u001b[0;34m(\u001b[0m\u001b[0;34m*\u001b[0m\u001b[0margs\u001b[0m\u001b[0;34m,\u001b[0m \u001b[0;34m**\u001b[0m\u001b[0mkwds\u001b[0m\u001b[0;34m)\u001b[0m\u001b[0;34m\u001b[0m\u001b[0;34m\u001b[0m\u001b[0m\n\u001b[0m\u001b[1;32m    581\u001b[0m \u001b[0;34m\u001b[0m\u001b[0m\n\u001b[1;32m    582\u001b[0m     \u001b[0;32mif\u001b[0m \u001b[0mtracing_count\u001b[0m \u001b[0;34m==\u001b[0m \u001b[0mself\u001b[0m\u001b[0;34m.\u001b[0m\u001b[0m_get_tracing_count\u001b[0m\u001b[0;34m(\u001b[0m\u001b[0;34m)\u001b[0m\u001b[0;34m:\u001b[0m\u001b[0;34m\u001b[0m\u001b[0;34m\u001b[0m\u001b[0m\n",
      "\u001b[0;32m~/anaconda3/lib/python3.7/site-packages/tensorflow/python/eager/def_function.py\u001b[0m in \u001b[0;36m_call\u001b[0;34m(self, *args, **kwds)\u001b[0m\n\u001b[1;32m    609\u001b[0m       \u001b[0;31m# In this case we have created variables on the first call, so we run the\u001b[0m\u001b[0;34m\u001b[0m\u001b[0;34m\u001b[0m\u001b[0;34m\u001b[0m\u001b[0m\n\u001b[1;32m    610\u001b[0m       \u001b[0;31m# defunned version which is guaranteed to never create variables.\u001b[0m\u001b[0;34m\u001b[0m\u001b[0;34m\u001b[0m\u001b[0;34m\u001b[0m\u001b[0m\n\u001b[0;32m--> 611\u001b[0;31m       \u001b[0;32mreturn\u001b[0m \u001b[0mself\u001b[0m\u001b[0;34m.\u001b[0m\u001b[0m_stateless_fn\u001b[0m\u001b[0;34m(\u001b[0m\u001b[0;34m*\u001b[0m\u001b[0margs\u001b[0m\u001b[0;34m,\u001b[0m \u001b[0;34m**\u001b[0m\u001b[0mkwds\u001b[0m\u001b[0;34m)\u001b[0m  \u001b[0;31m# pylint: disable=not-callable\u001b[0m\u001b[0;34m\u001b[0m\u001b[0;34m\u001b[0m\u001b[0m\n\u001b[0m\u001b[1;32m    612\u001b[0m     \u001b[0;32melif\u001b[0m \u001b[0mself\u001b[0m\u001b[0;34m.\u001b[0m\u001b[0m_stateful_fn\u001b[0m \u001b[0;32mis\u001b[0m \u001b[0;32mnot\u001b[0m \u001b[0;32mNone\u001b[0m\u001b[0;34m:\u001b[0m\u001b[0;34m\u001b[0m\u001b[0;34m\u001b[0m\u001b[0m\n\u001b[1;32m    613\u001b[0m       \u001b[0;31m# Release the lock early so that multiple threads can perform the call\u001b[0m\u001b[0;34m\u001b[0m\u001b[0;34m\u001b[0m\u001b[0;34m\u001b[0m\u001b[0m\n",
      "\u001b[0;32m~/anaconda3/lib/python3.7/site-packages/tensorflow/python/eager/function.py\u001b[0m in \u001b[0;36m__call__\u001b[0;34m(self, *args, **kwargs)\u001b[0m\n\u001b[1;32m   2418\u001b[0m     \u001b[0;32mwith\u001b[0m \u001b[0mself\u001b[0m\u001b[0;34m.\u001b[0m\u001b[0m_lock\u001b[0m\u001b[0;34m:\u001b[0m\u001b[0;34m\u001b[0m\u001b[0;34m\u001b[0m\u001b[0m\n\u001b[1;32m   2419\u001b[0m       \u001b[0mgraph_function\u001b[0m\u001b[0;34m,\u001b[0m \u001b[0margs\u001b[0m\u001b[0;34m,\u001b[0m \u001b[0mkwargs\u001b[0m \u001b[0;34m=\u001b[0m \u001b[0mself\u001b[0m\u001b[0;34m.\u001b[0m\u001b[0m_maybe_define_function\u001b[0m\u001b[0;34m(\u001b[0m\u001b[0margs\u001b[0m\u001b[0;34m,\u001b[0m \u001b[0mkwargs\u001b[0m\u001b[0;34m)\u001b[0m\u001b[0;34m\u001b[0m\u001b[0;34m\u001b[0m\u001b[0m\n\u001b[0;32m-> 2420\u001b[0;31m     \u001b[0;32mreturn\u001b[0m \u001b[0mgraph_function\u001b[0m\u001b[0;34m.\u001b[0m\u001b[0m_filtered_call\u001b[0m\u001b[0;34m(\u001b[0m\u001b[0margs\u001b[0m\u001b[0;34m,\u001b[0m \u001b[0mkwargs\u001b[0m\u001b[0;34m)\u001b[0m  \u001b[0;31m# pylint: disable=protected-access\u001b[0m\u001b[0;34m\u001b[0m\u001b[0;34m\u001b[0m\u001b[0m\n\u001b[0m\u001b[1;32m   2421\u001b[0m \u001b[0;34m\u001b[0m\u001b[0m\n\u001b[1;32m   2422\u001b[0m   \u001b[0;34m@\u001b[0m\u001b[0mproperty\u001b[0m\u001b[0;34m\u001b[0m\u001b[0;34m\u001b[0m\u001b[0m\n",
      "\u001b[0;32m~/anaconda3/lib/python3.7/site-packages/tensorflow/python/eager/function.py\u001b[0m in \u001b[0;36m_filtered_call\u001b[0;34m(self, args, kwargs)\u001b[0m\n\u001b[1;32m   1663\u001b[0m          if isinstance(t, (ops.Tensor,\n\u001b[1;32m   1664\u001b[0m                            resource_variable_ops.BaseResourceVariable))),\n\u001b[0;32m-> 1665\u001b[0;31m         self.captured_inputs)\n\u001b[0m\u001b[1;32m   1666\u001b[0m \u001b[0;34m\u001b[0m\u001b[0m\n\u001b[1;32m   1667\u001b[0m   \u001b[0;32mdef\u001b[0m \u001b[0m_call_flat\u001b[0m\u001b[0;34m(\u001b[0m\u001b[0mself\u001b[0m\u001b[0;34m,\u001b[0m \u001b[0margs\u001b[0m\u001b[0;34m,\u001b[0m \u001b[0mcaptured_inputs\u001b[0m\u001b[0;34m,\u001b[0m \u001b[0mcancellation_manager\u001b[0m\u001b[0;34m=\u001b[0m\u001b[0;32mNone\u001b[0m\u001b[0;34m)\u001b[0m\u001b[0;34m:\u001b[0m\u001b[0;34m\u001b[0m\u001b[0;34m\u001b[0m\u001b[0m\n",
      "\u001b[0;32m~/anaconda3/lib/python3.7/site-packages/tensorflow/python/eager/function.py\u001b[0m in \u001b[0;36m_call_flat\u001b[0;34m(self, args, captured_inputs, cancellation_manager)\u001b[0m\n\u001b[1;32m   1744\u001b[0m       \u001b[0;31m# No tape is watching; skip to running the function.\u001b[0m\u001b[0;34m\u001b[0m\u001b[0;34m\u001b[0m\u001b[0;34m\u001b[0m\u001b[0m\n\u001b[1;32m   1745\u001b[0m       return self._build_call_outputs(self._inference_function.call(\n\u001b[0;32m-> 1746\u001b[0;31m           ctx, args, cancellation_manager=cancellation_manager))\n\u001b[0m\u001b[1;32m   1747\u001b[0m     forward_backward = self._select_forward_and_backward_functions(\n\u001b[1;32m   1748\u001b[0m         \u001b[0margs\u001b[0m\u001b[0;34m,\u001b[0m\u001b[0;34m\u001b[0m\u001b[0;34m\u001b[0m\u001b[0m\n",
      "\u001b[0;32m~/anaconda3/lib/python3.7/site-packages/tensorflow/python/eager/function.py\u001b[0m in \u001b[0;36mcall\u001b[0;34m(self, ctx, args, cancellation_manager)\u001b[0m\n\u001b[1;32m    596\u001b[0m               \u001b[0minputs\u001b[0m\u001b[0;34m=\u001b[0m\u001b[0margs\u001b[0m\u001b[0;34m,\u001b[0m\u001b[0;34m\u001b[0m\u001b[0;34m\u001b[0m\u001b[0m\n\u001b[1;32m    597\u001b[0m               \u001b[0mattrs\u001b[0m\u001b[0;34m=\u001b[0m\u001b[0mattrs\u001b[0m\u001b[0;34m,\u001b[0m\u001b[0;34m\u001b[0m\u001b[0;34m\u001b[0m\u001b[0m\n\u001b[0;32m--> 598\u001b[0;31m               ctx=ctx)\n\u001b[0m\u001b[1;32m    599\u001b[0m         \u001b[0;32melse\u001b[0m\u001b[0;34m:\u001b[0m\u001b[0;34m\u001b[0m\u001b[0;34m\u001b[0m\u001b[0m\n\u001b[1;32m    600\u001b[0m           outputs = execute.execute_with_cancellation(\n",
      "\u001b[0;32m~/anaconda3/lib/python3.7/site-packages/tensorflow/python/eager/execute.py\u001b[0m in \u001b[0;36mquick_execute\u001b[0;34m(op_name, num_outputs, inputs, attrs, ctx, name)\u001b[0m\n\u001b[1;32m     58\u001b[0m     \u001b[0mctx\u001b[0m\u001b[0;34m.\u001b[0m\u001b[0mensure_initialized\u001b[0m\u001b[0;34m(\u001b[0m\u001b[0;34m)\u001b[0m\u001b[0;34m\u001b[0m\u001b[0;34m\u001b[0m\u001b[0m\n\u001b[1;32m     59\u001b[0m     tensors = pywrap_tfe.TFE_Py_Execute(ctx._handle, device_name, op_name,\n\u001b[0;32m---> 60\u001b[0;31m                                         inputs, attrs, num_outputs)\n\u001b[0m\u001b[1;32m     61\u001b[0m   \u001b[0;32mexcept\u001b[0m \u001b[0mcore\u001b[0m\u001b[0;34m.\u001b[0m\u001b[0m_NotOkStatusException\u001b[0m \u001b[0;32mas\u001b[0m \u001b[0me\u001b[0m\u001b[0;34m:\u001b[0m\u001b[0;34m\u001b[0m\u001b[0;34m\u001b[0m\u001b[0m\n\u001b[1;32m     62\u001b[0m     \u001b[0;32mif\u001b[0m \u001b[0mname\u001b[0m \u001b[0;32mis\u001b[0m \u001b[0;32mnot\u001b[0m \u001b[0;32mNone\u001b[0m\u001b[0;34m:\u001b[0m\u001b[0;34m\u001b[0m\u001b[0;34m\u001b[0m\u001b[0m\n",
      "\u001b[0;31mKeyboardInterrupt\u001b[0m: "
     ]
    }
   ],
   "source": [
    "history = batch_model.fit(x_train, y_train, batch_size=32, epochs=20, validation_data = (x_test, y_test))"
   ]
  },
  {
   "cell_type": "code",
   "execution_count": 47,
   "metadata": {},
   "outputs": [
    {
     "name": "stdout",
     "output_type": "stream",
     "text": [
      "Original Model's Accuracy is \n",
      "313/313 [==============================] - 0s 1ms/step - loss: 0.0029 - accuracy: 0.9818\n",
      "\n",
      "Batch Normalization Model's accuracy is \n",
      "313/313 [==============================] - 1s 2ms/step - loss: 0.0036 - accuracy: 0.9773\n"
     ]
    },
    {
     "data": {
      "text/plain": [
       "[0.0036020977422595024, 0.9772999882698059]"
      ]
     },
     "execution_count": 47,
     "metadata": {},
     "output_type": "execute_result"
    }
   ],
   "source": [
    "#Let's just double check to make sure we haven't decreased model accuracy - Generally, this shouldn't happen, although the large number of Batch Normalization layers might have an impact.\n",
    "print(\"Original Model's Accuracy is \")\n",
    "model.evaluate(x_test, y_test)\n",
    "print()\n",
    "print(\"Batch Normalization Model's accuracy is \")\n",
    "batch_model.evaluate(x_test, y_test)"
   ]
  },
  {
   "cell_type": "markdown",
   "metadata": {},
   "source": [
    "The good thing is that Batch Norm has not decreased model accuracy, rather slightly increased it - although it is a small change and won't help much in performance.\n",
    "Now let's repeat the exercise to fool this model."
   ]
  },
  {
   "cell_type": "code",
   "execution_count": 28,
   "metadata": {},
   "outputs": [],
   "source": [
    "def adversarial_pattern_m(model_t, image, label):\n",
    "    image = tf.cast(image, tf.float32)\n",
    "    \n",
    "    with tf.GradientTape() as tape:\n",
    "        tape.watch(image)\n",
    "        prediction = model_t(image)\n",
    "        loss = tf.keras.losses.MSE(label, prediction)\n",
    "    \n",
    "    gradient = tape.gradient(loss, image)\n",
    "    \n",
    "    signed_grad = tf.sign(gradient)\n",
    "    \n",
    "    return signed_grad"
   ]
  },
  {
   "cell_type": "code",
   "execution_count": 49,
   "metadata": {},
   "outputs": [],
   "source": [
    "preds = []\n",
    "x_adversarial = np.zeros((3000, 28, 28, 1))\n",
    "\n",
    "for i in range(3000):\n",
    "    image = x_train[i]\n",
    "    image_label = y_train[i]\n",
    "    \n",
    "#    perturbations = adversarial_pattern_m(batch_model, image.reshape((1, img_rows, img_cols, channels)), image_label).numpy()\n",
    "    perturbations = adversarial_pattern_m(batch_model, image.reshape((1, img_rows, img_cols, channels)), image_label).numpy()\n",
    "    adversarial = image + perturbations * 0.1\n",
    "    x_adversarial[i, :, :, :] = adversarial\n",
    "    preds.append(batch_model.predict(adversarial).argmax())"
   ]
  },
  {
   "cell_type": "code",
   "execution_count": 53,
   "metadata": {},
   "outputs": [
    {
     "name": "stdout",
     "output_type": "stream",
     "text": [
      "94/94 [==============================] - 0s 2ms/step - loss: 0.0475 - accuracy: 0.6983\n"
     ]
    },
    {
     "data": {
      "text/plain": [
       "[0.047455236315727234, 0.6983333230018616]"
      ]
     },
     "execution_count": 53,
     "metadata": {},
     "output_type": "execute_result"
    }
   ],
   "source": [
    "#Let's hope that the model is more robust\n",
    "batch_model.evaluate(x_adversarial[0: 3000, :, :, :], y_train[0 : 3000, :])"
   ]
  },
  {
   "cell_type": "code",
   "execution_count": 35,
   "metadata": {},
   "outputs": [
    {
     "data": {
      "text/plain": [
       "<matplotlib.image.AxesImage at 0x7faba19d33c8>"
      ]
     },
     "execution_count": 35,
     "metadata": {},
     "output_type": "execute_result"
    },
    {
     "data": {
      "image/png": "[encoded data removed]",
      "text/plain": [
       "<Figure size 432x288 with 1 Axes>"
      ]
     },
     "metadata": {
      "needs_background": "light"
     },
     "output_type": "display_data"
    }
   ],
   "source": [
    "plt.imshow(x_adversarial[0, :, :, :].reshape(28, 28))"
   ]
  },
  {
   "cell_type": "code",
   "execution_count": 268,
   "metadata": {},
   "outputs": [],
   "source": [
    "#Saving Model Weights\n",
    "batch_model.save(\"batch_model.hdf5\")"
   ]
  },
  {
   "cell_type": "markdown",
   "metadata": {},
   "source": [
    "It turns out that Batch Normalization during only test timeactually hurts the model. The reason for this must be that the model is used to inputs being normalized appropriately using BatchNorm, but adversarial examples are not normalized properly and so do worse.\n",
    "However, if batch normalization is used even during test time, the accuracy goes up to 69%, which is much better than 25%. This is because new values are used to normalize the input images."
   ]
  },
  {
   "cell_type": "markdown",
   "metadata": {},
   "source": [
    "Next let's see if increasing the dropout a lot helps in reducing the dependence on each neuron, and makes the models more robust. I will be increasing dropout by 3 - 4 times."
   ]
  },
  {
   "cell_type": "code",
   "execution_count": 274,
   "metadata": {},
   "outputs": [],
   "source": [
    "#Increasing Dropout\n",
    "def dropout_inc_model():\n",
    "    X_Input = Input((img_rows, img_cols, channels))\n",
    "    X = Conv2D(32, kernel_size=(3, 3), strides=(3, 3), padding='same', activation='relu')(X_Input)\n",
    "    X = Conv2D(64, kernel_size=(3, 3), strides=(3, 3), padding='same', activation='relu')(X)\n",
    "    X = Conv2D(64, kernel_size=(3, 3), strides=(3, 3), padding='same', activation='relu')(X)\n",
    "    X = MaxPooling2D(pool_size=(2, 2))(X)\n",
    "    X = Dropout(0.8)(X)\n",
    "    X = Flatten()(X)\n",
    "    X = Dense(32)(X)\n",
    "    X = Dropout(0.6)(X)\n",
    "    X = Dense(32)(X)\n",
    "    X = Dropout(0.4)(X)\n",
    "    X = Dense(num_classes, activation='softmax')(X)\n",
    "    \n",
    "    model = Model(inputs = X_Input, outputs = X)\n",
    "    return model"
   ]
  },
  {
   "cell_type": "code",
   "execution_count": 275,
   "metadata": {},
   "outputs": [
    {
     "name": "stdout",
     "output_type": "stream",
     "text": [
      "Model: \"model_7\"\n",
      "_________________________________________________________________\n",
      "Layer (type)                 Output Shape              Param #   \n",
      "=================================================================\n",
      "input_11 (InputLayer)        [(None, 28, 28, 1)]       0         \n",
      "_________________________________________________________________\n",
      "conv2d_28 (Conv2D)           (None, 10, 10, 32)        320       \n",
      "_________________________________________________________________\n",
      "conv2d_29 (Conv2D)           (None, 4, 4, 64)          18496     \n",
      "_________________________________________________________________\n",
      "conv2d_30 (Conv2D)           (None, 2, 2, 64)          36928     \n",
      "_________________________________________________________________\n",
      "max_pooling2d_9 (MaxPooling2 (None, 1, 1, 64)          0         \n",
      "_________________________________________________________________\n",
      "dropout_26 (Dropout)         (None, 1, 1, 64)          0         \n",
      "_________________________________________________________________\n",
      "flatten_9 (Flatten)          (None, 64)                0         \n",
      "_________________________________________________________________\n",
      "dense_26 (Dense)             (None, 32)                2080      \n",
      "_________________________________________________________________\n",
      "dropout_27 (Dropout)         (None, 32)                0         \n",
      "_________________________________________________________________\n",
      "dense_27 (Dense)             (None, 32)                1056      \n",
      "_________________________________________________________________\n",
      "dropout_28 (Dropout)         (None, 32)                0         \n",
      "_________________________________________________________________\n",
      "dense_28 (Dense)             (None, 10)                330       \n",
      "=================================================================\n",
      "Total params: 59,210\n",
      "Trainable params: 59,210\n",
      "Non-trainable params: 0\n",
      "_________________________________________________________________\n"
     ]
    }
   ],
   "source": [
    "d_model = dropout_inc_model()\n",
    "d_model.compile('adam', loss='mse', metrics=['accuracy'])\n",
    "d_model.summary()"
   ]
  },
  {
   "cell_type": "code",
   "execution_count": 276,
   "metadata": {
    "scrolled": true
   },
   "outputs": [
    {
     "name": "stdout",
     "output_type": "stream",
     "text": [
      "Epoch 1/20\n",
      "1875/1875 [==============================] - 5s 3ms/step - loss: 0.0643 - accuracy: 0.4692 - val_loss: 0.0285 - val_accuracy: 0.8567\n",
      "Epoch 2/20\n",
      "1875/1875 [==============================] - 5s 3ms/step - loss: 0.0481 - accuracy: 0.6383 - val_loss: 0.0182 - val_accuracy: 0.9051\n",
      "Epoch 3/20\n",
      "1875/1875 [==============================] - 5s 3ms/step - loss: 0.0436 - accuracy: 0.6799 - val_loss: 0.0150 - val_accuracy: 0.9158\n",
      "Epoch 4/20\n",
      "1875/1875 [==============================] - 5s 3ms/step - loss: 0.0406 - accuracy: 0.7053 - val_loss: 0.0126 - val_accuracy: 0.9294\n",
      "Epoch 5/20\n",
      "1875/1875 [==============================] - 5s 3ms/step - loss: 0.0385 - accuracy: 0.7241 - val_loss: 0.0115 - val_accuracy: 0.9300\n",
      "Epoch 6/20\n",
      "1875/1875 [==============================] - 5s 3ms/step - loss: 0.0375 - accuracy: 0.7354 - val_loss: 0.0110 - val_accuracy: 0.9347\n",
      "Epoch 7/20\n",
      "1875/1875 [==============================] - 5s 3ms/step - loss: 0.0356 - accuracy: 0.7509 - val_loss: 0.0102 - val_accuracy: 0.9382\n",
      "Epoch 8/20\n",
      "1875/1875 [==============================] - 5s 3ms/step - loss: 0.0353 - accuracy: 0.7552 - val_loss: 0.0107 - val_accuracy: 0.9338\n",
      "Epoch 9/20\n",
      "1875/1875 [==============================] - 5s 3ms/step - loss: 0.0339 - accuracy: 0.7687 - val_loss: 0.0104 - val_accuracy: 0.9370\n",
      "Epoch 10/20\n",
      "1875/1875 [==============================] - 5s 3ms/step - loss: 0.0333 - accuracy: 0.7735 - val_loss: 0.0097 - val_accuracy: 0.9417\n",
      "Epoch 11/20\n",
      "1875/1875 [==============================] - 5s 3ms/step - loss: 0.0322 - accuracy: 0.7844 - val_loss: 0.0094 - val_accuracy: 0.9428\n",
      "Epoch 12/20\n",
      "1875/1875 [==============================] - 5s 3ms/step - loss: 0.0318 - accuracy: 0.7886 - val_loss: 0.0104 - val_accuracy: 0.9382\n",
      "Epoch 13/20\n",
      "1875/1875 [==============================] - 5s 3ms/step - loss: 0.0312 - accuracy: 0.7933 - val_loss: 0.0103 - val_accuracy: 0.9406\n",
      "Epoch 14/20\n",
      "1875/1875 [==============================] - 6s 3ms/step - loss: 0.0306 - accuracy: 0.7987 - val_loss: 0.0107 - val_accuracy: 0.9366\n",
      "Epoch 15/20\n",
      "1875/1875 [==============================] - 6s 3ms/step - loss: 0.0301 - accuracy: 0.8025 - val_loss: 0.0107 - val_accuracy: 0.9380\n",
      "Epoch 16/20\n",
      "1875/1875 [==============================] - 6s 3ms/step - loss: 0.0297 - accuracy: 0.8065 - val_loss: 0.0094 - val_accuracy: 0.9446\n",
      "Epoch 17/20\n",
      "1875/1875 [==============================] - 6s 3ms/step - loss: 0.0292 - accuracy: 0.8098 - val_loss: 0.0098 - val_accuracy: 0.9415\n",
      "Epoch 18/20\n",
      "1875/1875 [==============================] - 6s 3ms/step - loss: 0.0295 - accuracy: 0.8083 - val_loss: 0.0105 - val_accuracy: 0.9402\n",
      "Epoch 19/20\n",
      "1875/1875 [==============================] - 6s 3ms/step - loss: 0.0292 - accuracy: 0.8103 - val_loss: 0.0096 - val_accuracy: 0.9428\n",
      "Epoch 20/20\n",
      "1875/1875 [==============================] - 6s 3ms/step - loss: 0.0286 - accuracy: 0.8145 - val_loss: 0.0100 - val_accuracy: 0.9413\n"
     ]
    }
   ],
   "source": [
    "history = d_model.fit(x_train, y_train, batch_size=32, epochs=20, validation_data = (x_test, y_test))"
   ]
  },
  {
   "cell_type": "code",
   "execution_count": 279,
   "metadata": {},
   "outputs": [],
   "source": [
    "preds = []\n",
    "x_adversarial = np.zeros((3000, 28, 28, 1))\n",
    "\n",
    "for i in range(3000):\n",
    "    image = x_train[i]\n",
    "    image_label = y_train[i]\n",
    "    \n",
    "    perturbations = adversarial_pattern_m(d_model, image.reshape((1, img_rows, img_cols, channels)), image_label).numpy()\n",
    "    adversarial = image + perturbations * 0.1\n",
    "    x_adversarial[i, :, :, :] = adversarial\n",
    "    preds.append(d_model.predict(adversarial).argmax())"
   ]
  },
  {
   "cell_type": "code",
   "execution_count": 296,
   "metadata": {},
   "outputs": [
    {
     "name": "stdout",
     "output_type": "stream",
     "text": [
      "94/94 [==============================] - 0s 1ms/step - loss: 0.0240 - accuracy: 0.8497\n"
     ]
    },
    {
     "data": {
      "text/plain": [
       "[0.023957913741469383, 0.8496666550636292]"
      ]
     },
     "execution_count": 296,
     "metadata": {},
     "output_type": "execute_result"
    }
   ],
   "source": [
    "d_model.evaluate(x_adversarial[0: 3000, :, :, :], y_train[0:3000, :])"
   ]
  },
  {
   "cell_type": "markdown",
   "metadata": {},
   "source": [
    "Turns out that adding high amounts of dropout didn't help at all. This might be because of the small model, but this will generalize to larget models as well, in that increasing dropout may help performance a little, but not enough to make them secure."
   ]
  },
  {
   "cell_type": "code",
   "execution_count": 299,
   "metadata": {},
   "outputs": [],
   "source": [
    "def dropout_test_model():\n",
    "    X_Input = Input((img_rows, img_cols, channels))\n",
    "    X = Conv2D(32, kernel_size=(3, 3), strides=(3, 3), padding='same', activation='relu')(X_Input)\n",
    "    X = Dropout(0.4)(X, training=True)   #Extra block added\n",
    "    X = Conv2D(64, kernel_size=(3, 3), strides=(3, 3), padding='same', activation='relu')(X)\n",
    "    X = Conv2D(64, kernel_size=(3, 3), strides=(3, 3), padding='same', activation='relu')(X)\n",
    "    X = MaxPooling2D(pool_size=(2, 2))(X)\n",
    "    X = Dropout(0.4)(X, training=True)\n",
    "    X = Flatten()(X)\n",
    "    X = Dense(32)(X)\n",
    "    X = Dropout(0.2)(X, training=True)\n",
    "    X = Dense(32)(X)\n",
    "    X = Dropout(0.05)(X, training=True)\n",
    "    X = Dense(num_classes, activation='softmax')(X)\n",
    "    \n",
    "    model = Model(inputs = X_Input, outputs = X)\n",
    "    return model"
   ]
  },
  {
   "cell_type": "code",
   "execution_count": 300,
   "metadata": {
    "scrolled": true
   },
   "outputs": [
    {
     "name": "stdout",
     "output_type": "stream",
     "text": [
      "Model: \"model_12\"\n",
      "_________________________________________________________________\n",
      "Layer (type)                 Output Shape              Param #   \n",
      "=================================================================\n",
      "input_16 (InputLayer)        [(None, 28, 28, 1)]       0         \n",
      "_________________________________________________________________\n",
      "conv2d_43 (Conv2D)           (None, 10, 10, 32)        320       \n",
      "_________________________________________________________________\n",
      "dropout_41 (Dropout)         (None, 10, 10, 32)        0         \n",
      "_________________________________________________________________\n",
      "conv2d_44 (Conv2D)           (None, 4, 4, 64)          18496     \n",
      "_________________________________________________________________\n",
      "conv2d_45 (Conv2D)           (None, 2, 2, 64)          36928     \n",
      "_________________________________________________________________\n",
      "max_pooling2d_14 (MaxPooling (None, 1, 1, 64)          0         \n",
      "_________________________________________________________________\n",
      "dropout_42 (Dropout)         (None, 1, 1, 64)          0         \n",
      "_________________________________________________________________\n",
      "flatten_14 (Flatten)         (None, 64)                0         \n",
      "_________________________________________________________________\n",
      "dense_41 (Dense)             (None, 32)                2080      \n",
      "_________________________________________________________________\n",
      "dropout_43 (Dropout)         (None, 32)                0         \n",
      "_________________________________________________________________\n",
      "dense_42 (Dense)             (None, 32)                1056      \n",
      "_________________________________________________________________\n",
      "dropout_44 (Dropout)         (None, 32)                0         \n",
      "_________________________________________________________________\n",
      "dense_43 (Dense)             (None, 10)                330       \n",
      "=================================================================\n",
      "Total params: 59,210\n",
      "Trainable params: 59,210\n",
      "Non-trainable params: 0\n",
      "_________________________________________________________________\n"
     ]
    }
   ],
   "source": [
    "d_model = dropout_test_model()\n",
    "d_model.compile('adam', loss='mse', metrics=['accuracy'])\n",
    "d_model.summary()"
   ]
  },
  {
   "cell_type": "code",
   "execution_count": 301,
   "metadata": {
    "scrolled": true
   },
   "outputs": [
    {
     "name": "stdout",
     "output_type": "stream",
     "text": [
      "Epoch 1/20\n",
      "1875/1875 [==============================] - 7s 3ms/step - loss: 0.0262 - accuracy: 0.8164 - val_loss: 0.0163 - val_accuracy: 0.8916\n",
      "Epoch 2/20\n",
      "1875/1875 [==============================] - 6s 3ms/step - loss: 0.0139 - accuracy: 0.9082 - val_loss: 0.0123 - val_accuracy: 0.9198\n",
      "Epoch 3/20\n",
      "1875/1875 [==============================] - 6s 3ms/step - loss: 0.0117 - accuracy: 0.9241 - val_loss: 0.0108 - val_accuracy: 0.9304\n",
      "Epoch 4/20\n",
      "1875/1875 [==============================] - 7s 4ms/step - loss: 0.0105 - accuracy: 0.9323 - val_loss: 0.0097 - val_accuracy: 0.9383\n",
      "Epoch 5/20\n",
      "1875/1875 [==============================] - 7s 4ms/step - loss: 0.0097 - accuracy: 0.9374 - val_loss: 0.0092 - val_accuracy: 0.9411\n",
      "Epoch 6/20\n",
      "1875/1875 [==============================] - 7s 4ms/step - loss: 0.0092 - accuracy: 0.9413 - val_loss: 0.0087 - val_accuracy: 0.9460\n",
      "Epoch 7/20\n",
      "1875/1875 [==============================] - 7s 4ms/step - loss: 0.0087 - accuracy: 0.9447 - val_loss: 0.0089 - val_accuracy: 0.9418\n",
      "Epoch 8/20\n",
      "1875/1875 [==============================] - 7s 4ms/step - loss: 0.0084 - accuracy: 0.9462 - val_loss: 0.0084 - val_accuracy: 0.9462\n",
      "Epoch 9/20\n",
      "1875/1875 [==============================] - 7s 4ms/step - loss: 0.0081 - accuracy: 0.9481 - val_loss: 0.0081 - val_accuracy: 0.9474\n",
      "Epoch 10/20\n",
      "1875/1875 [==============================] - 7s 4ms/step - loss: 0.0079 - accuracy: 0.9496 - val_loss: 0.0079 - val_accuracy: 0.9480\n",
      "Epoch 11/20\n",
      "1875/1875 [==============================] - 8s 4ms/step - loss: 0.0076 - accuracy: 0.9516 - val_loss: 0.0082 - val_accuracy: 0.9480\n",
      "Epoch 12/20\n",
      "1875/1875 [==============================] - 8s 4ms/step - loss: 0.0076 - accuracy: 0.9519 - val_loss: 0.0075 - val_accuracy: 0.9526\n",
      "Epoch 13/20\n",
      "1875/1875 [==============================] - 7s 4ms/step - loss: 0.0074 - accuracy: 0.9535 - val_loss: 0.0077 - val_accuracy: 0.9515\n",
      "Epoch 14/20\n",
      "1875/1875 [==============================] - 7s 4ms/step - loss: 0.0073 - accuracy: 0.9538 - val_loss: 0.0071 - val_accuracy: 0.9559\n",
      "Epoch 15/20\n",
      "1875/1875 [==============================] - 7s 4ms/step - loss: 0.0072 - accuracy: 0.9543 - val_loss: 0.0067 - val_accuracy: 0.9582\n",
      "Epoch 16/20\n",
      "1875/1875 [==============================] - 10s 5ms/step - loss: 0.0070 - accuracy: 0.9557 - val_loss: 0.0076 - val_accuracy: 0.9513\n",
      "Epoch 17/20\n",
      "1875/1875 [==============================] - 12s 6ms/step - loss: 0.0070 - accuracy: 0.9554 - val_loss: 0.0069 - val_accuracy: 0.9571\n",
      "Epoch 18/20\n",
      "1875/1875 [==============================] - 13s 7ms/step - loss: 0.0068 - accuracy: 0.9575 - val_loss: 0.0072 - val_accuracy: 0.9533\n",
      "Epoch 19/20\n",
      "1875/1875 [==============================] - 12s 7ms/step - loss: 0.0068 - accuracy: 0.9565 - val_loss: 0.0070 - val_accuracy: 0.9573\n",
      "Epoch 20/20\n",
      "1875/1875 [==============================] - 12s 6ms/step - loss: 0.0067 - accuracy: 0.9581 - val_loss: 0.0067 - val_accuracy: 0.9579\n"
     ]
    }
   ],
   "source": [
    "history = d_model.fit(x_train, y_train, batch_size=32, epochs=20, validation_data = (x_test, y_test))"
   ]
  },
  {
   "cell_type": "code",
   "execution_count": 302,
   "metadata": {},
   "outputs": [
    {
     "name": "stdout",
     "output_type": "stream",
     "text": [
      "313/313 [==============================] - 1s 3ms/step - loss: 0.0069 - accuracy: 0.9556\n"
     ]
    },
    {
     "data": {
      "text/plain": [
       "[0.006904025096446276, 0.9556000232696533]"
      ]
     },
     "execution_count": 302,
     "metadata": {},
     "output_type": "execute_result"
    }
   ],
   "source": [
    "d_model.evaluate(x_test, y_test)"
   ]
  },
  {
   "cell_type": "code",
   "execution_count": 304,
   "metadata": {},
   "outputs": [],
   "source": [
    "preds = []\n",
    "x_adversarial = np.zeros((3000, 28, 28, 1))\n",
    "\n",
    "for i in range(3000):\n",
    "    image = x_train[i]\n",
    "    image_label = y_train[i]\n",
    "    \n",
    "    perturbations = adversarial_pattern_m(d_model, image.reshape((1, img_rows, img_cols, channels)), image_label).numpy()\n",
    "    adversarial = image + perturbations * 0.1\n",
    "    x_adversarial[i, :, :, :] = adversarial\n",
    "    preds.append(d_model.predict(adversarial).argmax())"
   ]
  },
  {
   "cell_type": "code",
   "execution_count": 305,
   "metadata": {},
   "outputs": [
    {
     "name": "stdout",
     "output_type": "stream",
     "text": [
      "94/94 [==============================] - 0s 1ms/step - loss: 0.0491 - accuracy: 0.6870\n"
     ]
    },
    {
     "data": {
      "text/plain": [
       "[0.04910464957356453, 0.6869999766349792]"
      ]
     },
     "execution_count": 305,
     "metadata": {},
     "output_type": "execute_result"
    }
   ],
   "source": [
    "d_model.evaluate(x_adversarial[0: 3000, :, :, :], y_train[0:3000, :])"
   ]
  },
  {
   "cell_type": "markdown",
   "metadata": {},
   "source": [
    "For image models, dropout in the convolutional layer is very important.\n",
    "Increasing dropout as much as possible will make the model more robust."
   ]
  },
  {
   "cell_type": "markdown",
   "metadata": {},
   "source": [
    "Previous dropout score - 0 / 0.4 / 0.2 / 0.05\n",
    "0.4156666696071625\n",
    "\n",
    "Current Dropout Score - 0.4 / 0.4 / 0.2 / 0.05\n",
    "0.6869999766349792\n",
    "\n",
    "These experiments show that increasing the dropout increases score a lot.\n",
    "\n",
    "However, there is a tradeoff - Increasing dropout too much prevents the model from learning the data properly, and hence model performs poorly. Lower dropout, and adversarial attacks are more successful. \n",
    "\n",
    "Now let's run a grid search for searching all values of dropout in the model."
   ]
  },
  {
   "cell_type": "code",
   "execution_count": 306,
   "metadata": {},
   "outputs": [],
   "source": [
    "def dropout_grid_search(d1, d2, d3):\n",
    "    X_Input = Input((img_rows, img_cols, channels))\n",
    "    X = Conv2D(32, kernel_size=(3, 3), strides=(3, 3), padding='same', activation='relu')(X_Input)\n",
    "    X = Dropout(d1)(X, training=True)   #Extra block added\n",
    "    X = Conv2D(64, kernel_size=(3, 3), strides=(3, 3), padding='same', activation='relu')(X)\n",
    "    X = Conv2D(64, kernel_size=(3, 3), strides=(3, 3), padding='same', activation='relu')(X)\n",
    "    X = MaxPooling2D(pool_size=(2, 2))(X)\n",
    "    X = Dropout(d2)(X, training=True)\n",
    "    X = Flatten()(X)\n",
    "    X = Dense(32)(X)\n",
    "    X = Dropout(d3)(X, training=True)\n",
    "    X = Dense(32)(X)\n",
    "    X = Dropout(0.05)(X, training=True)\n",
    "    X = Dense(num_classes, activation='softmax')(X)\n",
    "    \n",
    "    model = Model(inputs = X_Input, outputs = X)\n",
    "    return model"
   ]
  },
  {
   "cell_type": "code",
   "execution_count": null,
   "metadata": {},
   "outputs": [],
   "source": [
    "# D1 best value = 0.45\n",
    "# D2 best value = 0.3\n",
    "# D3 best value = 0.075"
   ]
  },
  {
   "cell_type": "code",
   "execution_count": 340,
   "metadata": {},
   "outputs": [
    {
     "name": "stdout",
     "output_type": "stream",
     "text": [
      "Epoch 1/15\n",
      "1875/1875 [==============================] - 7s 4ms/step - loss: 0.0226 - accuracy: 0.8431 - val_loss: 0.0125 - val_accuracy: 0.9163\n",
      "Epoch 2/15\n",
      "1875/1875 [==============================] - 7s 4ms/step - loss: 0.0115 - accuracy: 0.9246 - val_loss: 0.0096 - val_accuracy: 0.9393\n",
      "Epoch 3/15\n",
      "1875/1875 [==============================] - 7s 4ms/step - loss: 0.0094 - accuracy: 0.9384 - val_loss: 0.0086 - val_accuracy: 0.9448\n",
      "Epoch 4/15\n",
      "1875/1875 [==============================] - 7s 4ms/step - loss: 0.0086 - accuracy: 0.9452 - val_loss: 0.0078 - val_accuracy: 0.9486\n",
      "Epoch 5/15\n",
      "1875/1875 [==============================] - 8s 4ms/step - loss: 0.0081 - accuracy: 0.9477 - val_loss: 0.0080 - val_accuracy: 0.9475\n",
      "Epoch 6/15\n",
      "1875/1875 [==============================] - 8s 4ms/step - loss: 0.0075 - accuracy: 0.9519 - val_loss: 0.0067 - val_accuracy: 0.9552\n",
      "Epoch 7/15\n",
      "1875/1875 [==============================] - 8s 4ms/step - loss: 0.0073 - accuracy: 0.9533 - val_loss: 0.0070 - val_accuracy: 0.9542\n",
      "Epoch 8/15\n",
      "1875/1875 [==============================] - 8s 4ms/step - loss: 0.0070 - accuracy: 0.9555 - val_loss: 0.0071 - val_accuracy: 0.9548\n",
      "Epoch 9/15\n",
      "1875/1875 [==============================] - 7s 4ms/step - loss: 0.0067 - accuracy: 0.9576 - val_loss: 0.0062 - val_accuracy: 0.9595\n",
      "Epoch 10/15\n",
      "1875/1875 [==============================] - 7s 4ms/step - loss: 0.0066 - accuracy: 0.9581 - val_loss: 0.0063 - val_accuracy: 0.9586\n",
      "Epoch 11/15\n",
      "1875/1875 [==============================] - 7s 4ms/step - loss: 0.0063 - accuracy: 0.9598 - val_loss: 0.0065 - val_accuracy: 0.9595\n",
      "Epoch 12/15\n",
      "1875/1875 [==============================] - 7s 4ms/step - loss: 0.0063 - accuracy: 0.9600 - val_loss: 0.0066 - val_accuracy: 0.9576\n",
      "Epoch 13/15\n",
      "1875/1875 [==============================] - 8s 4ms/step - loss: 0.0062 - accuracy: 0.9604 - val_loss: 0.0059 - val_accuracy: 0.9630\n",
      "Epoch 14/15\n",
      "1875/1875 [==============================] - 8s 4ms/step - loss: 0.0059 - accuracy: 0.9625 - val_loss: 0.0060 - val_accuracy: 0.9616\n",
      "Epoch 15/15\n",
      "1875/1875 [==============================] - 8s 4ms/step - loss: 0.0059 - accuracy: 0.9625 - val_loss: 0.0061 - val_accuracy: 0.9607\n"
     ]
    }
   ],
   "source": [
    "fin_d_model = dropout_grid_search(0.45, 0.3, 0.075)\n",
    "fin_d_model.compile('adam', loss='mse', metrics=['accuracy'])\n",
    "history = fin_d_model.fit(x_train, y_train, batch_size=32, epochs=15, validation_data = (x_test, y_test))"
   ]
  },
  {
   "cell_type": "code",
   "execution_count": 341,
   "metadata": {},
   "outputs": [
    {
     "name": "stdout",
     "output_type": "stream",
     "text": [
      "313/313 [==============================] - 0s 1ms/step - loss: 0.0055 - accuracy: 0.9646\n"
     ]
    },
    {
     "data": {
      "text/plain": [
       "[0.005549668334424496, 0.9646000266075134]"
      ]
     },
     "execution_count": 341,
     "metadata": {},
     "output_type": "execute_result"
    }
   ],
   "source": [
    "fin_d_model.evaluate(x_test, y_test)"
   ]
  },
  {
   "cell_type": "code",
   "execution_count": 343,
   "metadata": {},
   "outputs": [
    {
     "name": "stdout",
     "output_type": "stream",
     "text": [
      "94/94 [==============================] - 0s 1ms/step - loss: 0.0315 - accuracy: 0.7937\n"
     ]
    },
    {
     "data": {
      "text/plain": [
       "[0.03149035573005676, 0.793666660785675]"
      ]
     },
     "execution_count": 343,
     "metadata": {},
     "output_type": "execute_result"
    }
   ],
   "source": [
    "fin_d_model.evaluate(x_adversarial[0: 3000, :, :, :], y_train[0:3000, :])"
   ]
  },
  {
   "cell_type": "markdown",
   "metadata": {},
   "source": [
    "The model is excellent against adversarial examples. Let's also increase noise to 20%."
   ]
  },
  {
   "cell_type": "code",
   "execution_count": 345,
   "metadata": {},
   "outputs": [
    {
     "name": "stdout",
     "output_type": "stream",
     "text": [
      "94/94 [==============================] - 0s 1ms/step - loss: 0.0897 - accuracy: 0.4267\n"
     ]
    },
    {
     "data": {
      "text/plain": [
       "[0.08965112268924713, 0.4266666769981384]"
      ]
     },
     "execution_count": 345,
     "metadata": {},
     "output_type": "execute_result"
    }
   ],
   "source": [
    "fin_d_model.evaluate(x_adversarial[0: 3000, :, :, :], y_train[0:3000, :])"
   ]
  },
  {
   "cell_type": "code",
   "execution_count": 346,
   "metadata": {},
   "outputs": [],
   "source": [
    "#Saving model weights\n",
    "fin_d_model.save(\"dropout_model.hdf5\")"
   ]
  },
  {
   "cell_type": "markdown",
   "metadata": {},
   "source": [
    "Accuracy has gone down, quite a bit, but this is still much better than other techniques which went down to 15% or less.\n",
    "Combining this with other approaches might be extremely effective against adversarial examples."
   ]
  },
  {
   "cell_type": "code",
   "execution_count": 344,
   "metadata": {},
   "outputs": [],
   "source": [
    "preds = []\n",
    "x_adversarial = np.zeros((3000, 28, 28, 1))\n",
    "\n",
    "for i in range(3000):\n",
    "    image = x_train[i]\n",
    "    image_label = y_train[i]\n",
    "    \n",
    "    perturbations = adversarial_pattern_m(fin_d_model, image.reshape((1, img_rows, img_cols, channels)), image_label).numpy()\n",
    "    adversarial = image + perturbations * 0.2\n",
    "    x_adversarial[i, :, :, :] = adversarial\n",
    "    preds.append(fin_d_model.predict(adversarial).argmax())"
   ]
  },
  {
   "cell_type": "code",
   "execution_count": 336,
   "metadata": {},
   "outputs": [
    {
     "name": "stdout",
     "output_type": "stream",
     "text": [
      "Training for dropouts   0.05\n",
      "313/313 [==============================] - 0s 1ms/step - loss: 0.0061 - accuracy: 0.9615\n",
      "Training for dropouts   0.1\n",
      "313/313 [==============================] - 0s 1ms/step - loss: 0.0063 - accuracy: 0.9598\n",
      "Training for dropouts   0.15\n",
      "313/313 [==============================] - 0s 1ms/step - loss: 0.0068 - accuracy: 0.9560\n",
      "Training for dropouts   0.2\n",
      "313/313 [==============================] - 0s 1ms/step - loss: 0.0062 - accuracy: 0.9605\n",
      "Training for dropouts   0.25\n",
      "313/313 [==============================] - 0s 1ms/step - loss: 0.0067 - accuracy: 0.9581\n",
      "Training for dropouts   0.3\n",
      "313/313 [==============================] - 0s 1ms/step - loss: 0.0072 - accuracy: 0.9541\n"
     ]
    }
   ],
   "source": [
    "#d1s = [0.2, 0.25, 0.3, 0.35, 0.4, 0.45, 0.5, 0.55]\n",
    "#d2s = [0.1, 0.15, 0.2, 0.25, 0.3, 0.35, 0.4, 0.45]\n",
    "d3s = [0.05, 0.1, 0.15, 0.2, 0.25, 0.3]\n",
    "\n",
    "n_accuracy = []\n",
    "a_accuracy = []\n",
    "\n",
    "for d3 in d3s:\n",
    "    print(\"Training for dropouts   \" + str(d3))\n",
    "    d_model = dropout_grid_search(0.45, 0.3, d3)\n",
    "    d_model.compile('adam', loss='mse', metrics=['accuracy'])\n",
    "    history = d_model.fit(x_train, y_train, batch_size=32, epochs=15, validation_data = (x_test, y_test), verbose=0)\n",
    "\n",
    "    \n",
    "    preds = np.zeros(1000)\n",
    "    x_adversarial = np.zeros((1000, 28, 28, 1))\n",
    "    ys = np.zeros(1000)\n",
    "    for i in range(1000):\n",
    "        image = x_train[i]\n",
    "        image_label = y_train[i]\n",
    "\n",
    "        perturbations = adversarial_pattern_m(d_model, image.reshape((1, img_rows, img_cols, channels)), image_label).numpy()\n",
    "        adversarial = image + perturbations * 0.1\n",
    "        x_adversarial[i, :, :, :] = adversarial\n",
    "\n",
    "        preds[i] = d_model.predict(adversarial).argmax()\n",
    "        ys[i] = y_train[i].argmax()\n",
    "\n",
    "    a_accuracy.append((ys == preds).sum() / 1000)\n",
    "    n_accuracy.append(d_model.evaluate(x_test, y_test)[1])\n"
   ]
  },
  {
   "cell_type": "code",
   "execution_count": 337,
   "metadata": {},
   "outputs": [
    {
     "data": {
      "text/plain": [
       "([0.9614999890327454,\n",
       "  0.9598000049591064,\n",
       "  0.9559999704360962,\n",
       "  0.9605000019073486,\n",
       "  0.9581000208854675,\n",
       "  0.9541000127792358],\n",
       " [0.762, 0.829, 0.57, 0.729, 0.639, 0.627])"
      ]
     },
     "execution_count": 337,
     "metadata": {},
     "output_type": "execute_result"
    }
   ],
   "source": [
    "n_accuracy, a_accuracy"
   ]
  },
  {
   "cell_type": "code",
   "execution_count": 338,
   "metadata": {},
   "outputs": [
    {
     "data": {
      "text/plain": [
       "[1.7234999890327454,\n",
       " 1.7888000049591064,\n",
       " 1.525999970436096,\n",
       " 1.6895000019073487,\n",
       " 1.5971000208854675,\n",
       " 1.5811000127792358]"
      ]
     },
     "execution_count": 338,
     "metadata": {},
     "output_type": "execute_result"
    }
   ],
   "source": [
    "tot = []\n",
    "for i in range(len(n_accuracy)):\n",
    "    tot.append(n_accuracy[i] + a_accuracy[i])\n",
    "tot"
   ]
  },
  {
   "cell_type": "markdown",
   "metadata": {},
   "source": [
    "We already tried pre processing the image by running it through a noise fillter, however, higher level of noise rendered this filter useless. Hence, I will now try implementing a denoising autoencoder to clean the image. The reason this might work is that autoencoders are more robust to different kinds of noise."
   ]
  },
  {
   "cell_type": "code",
   "execution_count": 124,
   "metadata": {},
   "outputs": [],
   "source": [
    "from tensorflow.keras.layers import Conv2DTranspose, Reshape\n",
    "import tensorflow.keras.backend as K"
   ]
  },
  {
   "cell_type": "code",
   "execution_count": 23,
   "metadata": {},
   "outputs": [],
   "source": [
    "def build_denoiser(latent_dim = 16):\n",
    "    #________ENCODER______________\n",
    "    enc_input = Input(shape=(28, 28, 1))\n",
    "\n",
    "    enc = Conv2D(filters=32, kernel_size=(3, 3), strides=(2, 2), padding='Same', activation='relu')(enc_input)\n",
    "    enc = Conv2D(filters=64, kernel_size=(3, 3), strides=(2, 2), padding='Same', activation='relu')(enc)\n",
    "\n",
    "    enc_shape = K.int_shape(enc)\n",
    "\n",
    "    enc = Flatten()(enc)\n",
    "    enc = Dense(latent_dim)(enc)\n",
    "\n",
    "    encoder = Model(inputs=enc_input, outputs=enc)\n",
    "    \n",
    "    #______ DECODER ____________\n",
    "    dec_input = Input(shape=(latent_dim,))\n",
    "\n",
    "    dec = Dense(enc_shape[1] * enc_shape[2] * enc_shape[3])(dec_input)\n",
    "    dec = Reshape((enc_shape[1], enc_shape[2], enc_shape[3]))(dec)\n",
    "\n",
    "    dec = Conv2DTranspose(filters=64, kernel_size=(3, 3), strides=(2, 2), padding='Same', activation='relu')(dec)\n",
    "    dec = Conv2DTranspose(filters=32, kernel_size=(3, 3), strides=(2, 2), padding='Same', activation='relu')(dec)\n",
    "\n",
    "    dec = Conv2DTranspose(filters=1, kernel_size=(3, 3), padding='Same', activation='sigmoid')(dec)\n",
    "    decoder = Model(inputs=dec_input, outputs=dec)\n",
    "    \n",
    "    #_____ COMBINING ENCODER AND DECODER\n",
    "    denoiser = Model(inputs=enc_input, outputs=decoder(encoder(enc_input)))\n",
    "    return denoiser"
   ]
  },
  {
   "cell_type": "code",
   "execution_count": 24,
   "metadata": {},
   "outputs": [
    {
     "name": "stdout",
     "output_type": "stream",
     "text": [
      "Model: \"model_3\"\n",
      "_________________________________________________________________\n",
      "Layer (type)                 Output Shape              Param #   \n",
      "=================================================================\n",
      "input_2 (InputLayer)         [(None, 28, 28, 1)]       0         \n",
      "_________________________________________________________________\n",
      "model_1 (Model)              (None, 16)                69008     \n",
      "_________________________________________________________________\n",
      "model_2 (Model)              (None, 28, 28, 1)         108993    \n",
      "=================================================================\n",
      "Total params: 178,001\n",
      "Trainable params: 178,001\n",
      "Non-trainable params: 0\n",
      "_________________________________________________________________\n"
     ]
    }
   ],
   "source": [
    "denoiser = build_denoiser()\n",
    "denoiser.load_weights(filepath='./denoiser.h5')\n",
    "denoiser.compile(loss='mse', optimizer='adam')\n",
    "denoiser.summary()"
   ]
  },
  {
   "cell_type": "code",
   "execution_count": 30,
   "metadata": {},
   "outputs": [],
   "source": [
    "preds = []\n",
    "x_adversarial = np.zeros((3000, 28, 28, 1))\n",
    "\n",
    "for i in range(3000):\n",
    "    image = x_train[i]\n",
    "    image_label = y_train[i]\n",
    "    \n",
    "    perturbations = adversarial_pattern_m(model, image.reshape((1, img_rows, img_cols, channels)), image_label).numpy()\n",
    "    adversarial = image + perturbations * 0.2\n",
    "    x_adversarial[i, :, :, :] = adversarial\n",
    "    preds.append(model.predict(adversarial).argmax())"
   ]
  },
  {
   "cell_type": "code",
   "execution_count": 38,
   "metadata": {},
   "outputs": [],
   "source": [
    "preds = []\n",
    "x_adversarial_test = np.zeros((3000, 28, 28, 1))\n",
    "\n",
    "for i in range(3000):\n",
    "    image = x_test[i]\n",
    "    image_label = y_test[i]\n",
    "    \n",
    "    perturbations = adversarial_pattern_m(model, image.reshape((1, img_rows, img_cols, channels)), image_label).numpy()\n",
    "    adversarial = image + perturbations * 0.2\n",
    "    x_adversarial_test[i, :, :, :] = adversarial\n",
    "    preds.append(model.predict(adversarial).argmax())"
   ]
  },
  {
   "cell_type": "code",
   "execution_count": 32,
   "metadata": {},
   "outputs": [
    {
     "name": "stdout",
     "output_type": "stream",
     "text": [
      "94/94 [==============================] - 1s 11ms/step - loss: 0.0372\n"
     ]
    },
    {
     "data": {
      "text/plain": [
       "0.037151604890823364"
      ]
     },
     "execution_count": 32,
     "metadata": {},
     "output_type": "execute_result"
    }
   ],
   "source": [
    "denoiser.evaluate(x_adversarial, x_train[0:3000, :, :, :])"
   ]
  },
  {
   "cell_type": "code",
   "execution_count": 62,
   "metadata": {},
   "outputs": [],
   "source": []
  },
  {
   "cell_type": "code",
   "execution_count": 33,
   "metadata": {},
   "outputs": [
    {
     "name": "stdout",
     "output_type": "stream",
     "text": [
      "Epoch 1/2\n",
      "24/24 [==============================] - 2s 70ms/step - loss: 0.0205\n",
      "Epoch 2/2\n",
      "24/24 [==============================] - 2s 71ms/step - loss: 0.0133\n"
     ]
    },
    {
     "data": {
      "text/plain": [
       "<tensorflow.python.keras.callbacks.History at 0x7fada7255da0>"
      ]
     },
     "execution_count": 33,
     "metadata": {},
     "output_type": "execute_result"
    }
   ],
   "source": [
    "denoiser.fit(x_adversarial, x_train[0:3000, :, :, :], epochs=2, batch_size=128)"
   ]
  },
  {
   "cell_type": "code",
   "execution_count": 34,
   "metadata": {},
   "outputs": [],
   "source": [
    "cleaned = denoiser.predict(x_adversarial)"
   ]
  },
  {
   "cell_type": "code",
   "execution_count": 35,
   "metadata": {},
   "outputs": [
    {
     "data": {
      "text/plain": [
       "(5, 8, 5)"
      ]
     },
     "execution_count": 35,
     "metadata": {},
     "output_type": "execute_result"
    },
    {
     "data": {
      "image/png": "[encoded data removed]",
      "text/plain": [
       "<Figure size 432x288 with 1 Axes>"
      ]
     },
     "metadata": {
      "needs_background": "light"
     },
     "output_type": "display_data"
    }
   ],
   "source": [
    "pic = 11\n",
    "plt.imshow(x_adversarial[pic, :, :, :].reshape(28, 28))\n",
    "plt.imshow(cleaned[pic, :, :, :].reshape(28, 28))\n",
    "model.predict(cleaned[pic, :, : ,:].reshape(-1, 28, 28, 1)).argmax(), model.predict(x_adversarial[pic, :, : ,:].reshape(-1, 28, 28, 1)).argmax(), y_train[pic, :].argmax()"
   ]
  },
  {
   "cell_type": "code",
   "execution_count": 39,
   "metadata": {},
   "outputs": [],
   "source": [
    "cleaned_test = denoiser.predict(x_adversarial_test)"
   ]
  },
  {
   "cell_type": "code",
   "execution_count": 40,
   "metadata": {},
   "outputs": [
    {
     "data": {
      "text/plain": [
       "(9, 3, 9)"
      ]
     },
     "execution_count": 40,
     "metadata": {},
     "output_type": "execute_result"
    },
    {
     "data": {
      "image/png": "[encoded data removed]",
      "text/plain": [
       "<Figure size 432x288 with 1 Axes>"
      ]
     },
     "metadata": {
      "needs_background": "light"
     },
     "output_type": "display_data"
    }
   ],
   "source": [
    "pic = 20\n",
    "plt.imshow(x_adversarial_test[pic, :, :, :].reshape(28, 28))\n",
    "plt.imshow(cleaned_test[pic, :, :, :].reshape(28, 28))\n",
    "model.predict(cleaned_test[pic, :, : ,:].reshape(-1, 28, 28, 1)).argmax(), model.predict(x_adversarial_test[pic, :, : ,:].reshape(-1, 28, 28, 1)).argmax(), y_test[pic, :].argmax()"
   ]
  },
  {
   "cell_type": "code",
   "execution_count": 41,
   "metadata": {},
   "outputs": [],
   "source": [
    "cleaned_normal = denoiser.predict(x_test)"
   ]
  },
  {
   "cell_type": "code",
   "execution_count": 127,
   "metadata": {},
   "outputs": [
    {
     "data": {
      "text/plain": [
       "(1, 1, 1)"
      ]
     },
     "execution_count": 127,
     "metadata": {},
     "output_type": "execute_result"
    },
    {
     "data": {
      "image/png": "[encoded data removed]",
      "text/plain": [
       "<Figure size 432x288 with 1 Axes>"
      ]
     },
     "metadata": {
      "needs_background": "light"
     },
     "output_type": "display_data"
    }
   ],
   "source": [
    "pic = 984\n",
    "plt.imshow(x_test[pic, :, :, :].reshape(28, 28))\n",
    "plt.imshow(cleaned_normal[pic, :, :, :].reshape(28, 28))\n",
    "model.predict(cleaned_normal[pic, :, : ,:].reshape(-1, 28, 28, 1)).argmax(), model.predict(x_test[pic, :, : ,:].reshape(-1, 28, 28, 1)).argmax(), y_test[pic, :].argmax()"
   ]
  },
  {
   "cell_type": "code",
   "execution_count": 141,
   "metadata": {},
   "outputs": [
    {
     "name": "stdout",
     "output_type": "stream",
     "text": [
      "94/94 [==============================] - 0s 1ms/step - loss: 0.0264 - accuracy: 0.8457\n"
     ]
    },
    {
     "data": {
      "text/plain": [
       "[0.02642643451690674, 0.8456666469573975]"
      ]
     },
     "execution_count": 141,
     "metadata": {},
     "output_type": "execute_result"
    }
   ],
   "source": [
    "model.evaluate(cleaned_test, y_test[0:3000, :])"
   ]
  },
  {
   "cell_type": "code",
   "execution_count": 42,
   "metadata": {},
   "outputs": [],
   "source": [
    "preds_test_cl = model.predict(cleaned_test)"
   ]
  },
  {
   "cell_type": "code",
   "execution_count": 61,
   "metadata": {},
   "outputs": [
    {
     "data": {
      "image/png": "[encoded data removed]",
      "text/plain": [
       "<Figure size 432x288 with 1 Axes>"
      ]
     },
     "metadata": {
      "needs_background": "light"
     },
     "output_type": "display_data"
    },
    {
     "name": "stdout",
     "output_type": "stream",
     "text": [
      "33 0 4\n"
     ]
    },
    {
     "data": {
      "image/png": "[encoded data removed]",
      "text/plain": [
       "<Figure size 432x288 with 1 Axes>"
      ]
     },
     "metadata": {
      "needs_background": "light"
     },
     "output_type": "display_data"
    },
    {
     "name": "stdout",
     "output_type": "stream",
     "text": [
      "43 1 2\n"
     ]
    },
    {
     "data": {
      "image/png": "[encoded data removed]",
      "text/plain": [
       "<Figure size 432x288 with 1 Axes>"
      ]
     },
     "metadata": {
      "needs_background": "light"
     },
     "output_type": "display_data"
    },
    {
     "name": "stdout",
     "output_type": "stream",
     "text": [
      "48 9 4\n"
     ]
    },
    {
     "data": {
      "image/png": "[encoded data removed]",
      "text/plain": [
       "<Figure size 432x288 with 1 Axes>"
      ]
     },
     "metadata": {
      "needs_background": "light"
     },
     "output_type": "display_data"
    },
    {
     "name": "stdout",
     "output_type": "stream",
     "text": [
      "59 7 5\n"
     ]
    },
    {
     "data": {
      "image/png": "[encoded data removed]",
      "text/plain": [
       "<Figure size 432x288 with 1 Axes>"
      ]
     },
     "metadata": {
      "needs_background": "light"
     },
     "output_type": "display_data"
    },
    {
     "name": "stdout",
     "output_type": "stream",
     "text": [
      "61 3 8\n"
     ]
    },
    {
     "data": {
      "image/png": "[encoded data removed]",
      "text/plain": [
       "<Figure size 432x288 with 1 Axes>"
      ]
     },
     "metadata": {
      "needs_background": "light"
     },
     "output_type": "display_data"
    },
    {
     "name": "stdout",
     "output_type": "stream",
     "text": [
      "62 8 9\n"
     ]
    },
    {
     "data": {
      "image/png": "[encoded data removed]",
      "text/plain": [
       "<Figure size 432x288 with 1 Axes>"
      ]
     },
     "metadata": {
      "needs_background": "light"
     },
     "output_type": "display_data"
    },
    {
     "name": "stdout",
     "output_type": "stream",
     "text": [
      "63 2 3\n"
     ]
    },
    {
     "data": {
      "image/png": "[encoded data removed]",
      "text/plain": [
       "<Figure size 432x288 with 1 Axes>"
      ]
     },
     "metadata": {
      "needs_background": "light"
     },
     "output_type": "display_data"
    },
    {
     "name": "stdout",
     "output_type": "stream",
     "text": [
      "65 9 4\n"
     ]
    },
    {
     "data": {
      "image/png": "[encoded data removed]",
      "text/plain": [
       "<Figure size 432x288 with 1 Axes>"
      ]
     },
     "metadata": {
      "needs_background": "light"
     },
     "output_type": "display_data"
    },
    {
     "name": "stdout",
     "output_type": "stream",
     "text": [
      "66 3 6\n"
     ]
    },
    {
     "data": {
      "image/png": "[encoded data removed]",
      "text/plain": [
       "<Figure size 432x288 with 1 Axes>"
      ]
     },
     "metadata": {
      "needs_background": "light"
     },
     "output_type": "display_data"
    },
    {
     "name": "stdout",
     "output_type": "stream",
     "text": [
      "72 3 2\n"
     ]
    },
    {
     "data": {
      "image/png": "[encoded data removed]",
      "text/plain": [
       "<Figure size 432x288 with 1 Axes>"
      ]
     },
     "metadata": {
      "needs_background": "light"
     },
     "output_type": "display_data"
    },
    {
     "name": "stdout",
     "output_type": "stream",
     "text": [
      "73 7 9\n"
     ]
    },
    {
     "data": {
      "image/png": "[encoded data removed]",
      "text/plain": [
       "<Figure size 432x288 with 1 Axes>"
      ]
     },
     "metadata": {
      "needs_background": "light"
     },
     "output_type": "display_data"
    },
    {
     "name": "stdout",
     "output_type": "stream",
     "text": [
      "77 7 2\n"
     ]
    },
    {
     "data": {
      "image/png": "[encoded data removed]",
      "text/plain": [
       "<Figure size 432x288 with 1 Axes>"
      ]
     },
     "metadata": {
      "needs_background": "light"
     },
     "output_type": "display_data"
    },
    {
     "name": "stdout",
     "output_type": "stream",
     "text": [
      "92 4 9\n"
     ]
    },
    {
     "data": {
      "image/png": "[encoded data removed]",
      "text/plain": [
       "<Figure size 432x288 with 1 Axes>"
      ]
     },
     "metadata": {
      "needs_background": "light"
     },
     "output_type": "display_data"
    },
    {
     "name": "stdout",
     "output_type": "stream",
     "text": [
      "104 5 9\n"
     ]
    },
    {
     "data": {
      "image/png": "[encoded data removed]",
      "text/plain": [
       "<Figure size 432x288 with 1 Axes>"
      ]
     },
     "metadata": {
      "needs_background": "light"
     },
     "output_type": "display_data"
    },
    {
     "name": "stdout",
     "output_type": "stream",
     "text": [
      "115 9 4\n"
     ]
    },
    {
     "data": {
      "image/png": "[encoded data removed]",
      "text/plain": [
       "<Figure size 432x288 with 1 Axes>"
      ]
     },
     "metadata": {
      "needs_background": "light"
     },
     "output_type": "display_data"
    },
    {
     "name": "stdout",
     "output_type": "stream",
     "text": [
      "149 3 2\n"
     ]
    },
    {
     "data": {
      "image/png": "[encoded data removed]",
      "text/plain": [
       "<Figure size 432x288 with 1 Axes>"
      ]
     },
     "metadata": {
      "needs_background": "light"
     },
     "output_type": "display_data"
    },
    {
     "name": "stdout",
     "output_type": "stream",
     "text": [
      "151 8 9\n"
     ]
    },
    {
     "data": {
      "image/png": "[encoded data removed]",
      "text/plain": [
       "<Figure size 432x288 with 1 Axes>"
      ]
     },
     "metadata": {
      "needs_background": "light"
     },
     "output_type": "display_data"
    },
    {
     "name": "stdout",
     "output_type": "stream",
     "text": [
      "175 1 7\n"
     ]
    },
    {
     "data": {
      "image/png": "[encoded data removed]",
      "text/plain": [
       "<Figure size 432x288 with 1 Axes>"
      ]
     },
     "metadata": {
      "needs_background": "light"
     },
     "output_type": "display_data"
    },
    {
     "name": "stdout",
     "output_type": "stream",
     "text": [
      "195 1 3\n"
     ]
    },
    {
     "data": {
      "image/png": "[encoded data removed]",
      "text/plain": [
       "<Figure size 432x288 with 1 Axes>"
      ]
     },
     "metadata": {
      "needs_background": "light"
     },
     "output_type": "display_data"
    },
    {
     "name": "stdout",
     "output_type": "stream",
     "text": [
      "217 5 6\n"
     ]
    },
    {
     "data": {
      "image/png": "[encoded data removed]",
      "text/plain": [
       "<Figure size 432x288 with 1 Axes>"
      ]
     },
     "metadata": {
      "needs_background": "light"
     },
     "output_type": "display_data"
    },
    {
     "name": "stdout",
     "output_type": "stream",
     "text": [
      "230 5 3\n"
     ]
    },
    {
     "data": {
      "image/png": "[encoded data removed]",
      "text/plain": [
       "<Figure size 432x288 with 1 Axes>"
      ]
     },
     "metadata": {
      "needs_background": "light"
     },
     "output_type": "display_data"
    },
    {
     "name": "stdout",
     "output_type": "stream",
     "text": [
      "235 7 9\n"
     ]
    },
    {
     "data": {
      "image/png": "[encoded data removed]",
      "text/plain": [
       "<Figure size 432x288 with 1 Axes>"
      ]
     },
     "metadata": {
      "needs_background": "light"
     },
     "output_type": "display_data"
    },
    {
     "name": "stdout",
     "output_type": "stream",
     "text": [
      "241 8 9\n"
     ]
    },
    {
     "ename": "KeyboardInterrupt",
     "evalue": "",
     "output_type": "error",
     "traceback": [
      "\u001b[0;31m---------------------------------------------------------------------------\u001b[0m",
      "\u001b[0;31mKeyboardInterrupt\u001b[0m                         Traceback (most recent call last)",
      "\u001b[0;32m<ipython-input-61-3e018b6c0496>\u001b[0m in \u001b[0;36m<module>\u001b[0;34m\u001b[0m\n\u001b[1;32m      2\u001b[0m     \u001b[0;32mif\u001b[0m \u001b[0mpreds_test_cl\u001b[0m\u001b[0;34m[\u001b[0m\u001b[0mi\u001b[0m\u001b[0;34m]\u001b[0m\u001b[0;34m.\u001b[0m\u001b[0margmax\u001b[0m\u001b[0;34m(\u001b[0m\u001b[0;34m)\u001b[0m \u001b[0;34m!=\u001b[0m \u001b[0my_test\u001b[0m\u001b[0;34m[\u001b[0m\u001b[0mi\u001b[0m\u001b[0;34m]\u001b[0m\u001b[0;34m.\u001b[0m\u001b[0margmax\u001b[0m\u001b[0;34m(\u001b[0m\u001b[0;34m)\u001b[0m\u001b[0;34m:\u001b[0m\u001b[0;34m\u001b[0m\u001b[0;34m\u001b[0m\u001b[0m\n\u001b[1;32m      3\u001b[0m         \u001b[0mplt\u001b[0m\u001b[0;34m.\u001b[0m\u001b[0mimshow\u001b[0m\u001b[0;34m(\u001b[0m\u001b[0mcleaned_test\u001b[0m\u001b[0;34m[\u001b[0m\u001b[0mi\u001b[0m\u001b[0;34m,\u001b[0m \u001b[0;34m:\u001b[0m\u001b[0;34m,\u001b[0m \u001b[0;34m:\u001b[0m\u001b[0;34m,\u001b[0m \u001b[0;34m:\u001b[0m\u001b[0;34m]\u001b[0m\u001b[0;34m.\u001b[0m\u001b[0mreshape\u001b[0m\u001b[0;34m(\u001b[0m\u001b[0;36m28\u001b[0m\u001b[0;34m,\u001b[0m \u001b[0;36m28\u001b[0m\u001b[0;34m)\u001b[0m\u001b[0;34m)\u001b[0m\u001b[0;34m\u001b[0m\u001b[0;34m\u001b[0m\u001b[0m\n\u001b[0;32m----> 4\u001b[0;31m         \u001b[0mplt\u001b[0m\u001b[0;34m.\u001b[0m\u001b[0mshow\u001b[0m\u001b[0;34m(\u001b[0m\u001b[0;34m)\u001b[0m\u001b[0;34m\u001b[0m\u001b[0;34m\u001b[0m\u001b[0m\n\u001b[0m\u001b[1;32m      5\u001b[0m         \u001b[0mprint\u001b[0m\u001b[0;34m(\u001b[0m\u001b[0mi\u001b[0m\u001b[0;34m,\u001b[0m \u001b[0mpreds_test_cl\u001b[0m\u001b[0;34m[\u001b[0m\u001b[0mi\u001b[0m\u001b[0;34m]\u001b[0m\u001b[0;34m.\u001b[0m\u001b[0margmax\u001b[0m\u001b[0;34m(\u001b[0m\u001b[0;34m)\u001b[0m\u001b[0;34m,\u001b[0m \u001b[0my_test\u001b[0m\u001b[0;34m[\u001b[0m\u001b[0mi\u001b[0m\u001b[0;34m]\u001b[0m\u001b[0;34m.\u001b[0m\u001b[0margmax\u001b[0m\u001b[0;34m(\u001b[0m\u001b[0;34m)\u001b[0m\u001b[0;34m)\u001b[0m\u001b[0;34m\u001b[0m\u001b[0;34m\u001b[0m\u001b[0m\n",
      "\u001b[0;32m~/anaconda3/lib/python3.7/site-packages/matplotlib/pyplot.py\u001b[0m in \u001b[0;36mshow\u001b[0;34m(*args, **kw)\u001b[0m\n\u001b[1;32m    261\u001b[0m     \"\"\"\n\u001b[1;32m    262\u001b[0m     \u001b[0;32mglobal\u001b[0m \u001b[0m_show\u001b[0m\u001b[0;34m\u001b[0m\u001b[0;34m\u001b[0m\u001b[0m\n\u001b[0;32m--> 263\u001b[0;31m     \u001b[0;32mreturn\u001b[0m \u001b[0m_show\u001b[0m\u001b[0;34m(\u001b[0m\u001b[0;34m*\u001b[0m\u001b[0margs\u001b[0m\u001b[0;34m,\u001b[0m \u001b[0;34m**\u001b[0m\u001b[0mkw\u001b[0m\u001b[0;34m)\u001b[0m\u001b[0;34m\u001b[0m\u001b[0;34m\u001b[0m\u001b[0m\n\u001b[0m\u001b[1;32m    264\u001b[0m \u001b[0;34m\u001b[0m\u001b[0m\n\u001b[1;32m    265\u001b[0m \u001b[0;34m\u001b[0m\u001b[0m\n",
      "\u001b[0;32m~/anaconda3/lib/python3.7/site-packages/ipykernel/pylab/backend_inline.py\u001b[0m in \u001b[0;36mshow\u001b[0;34m(close, block)\u001b[0m\n\u001b[1;32m     37\u001b[0m             display(\n\u001b[1;32m     38\u001b[0m                 \u001b[0mfigure_manager\u001b[0m\u001b[0;34m.\u001b[0m\u001b[0mcanvas\u001b[0m\u001b[0;34m.\u001b[0m\u001b[0mfigure\u001b[0m\u001b[0;34m,\u001b[0m\u001b[0;34m\u001b[0m\u001b[0;34m\u001b[0m\u001b[0m\n\u001b[0;32m---> 39\u001b[0;31m                 \u001b[0mmetadata\u001b[0m\u001b[0;34m=\u001b[0m\u001b[0m_fetch_figure_metadata\u001b[0m\u001b[0;34m(\u001b[0m\u001b[0mfigure_manager\u001b[0m\u001b[0;34m.\u001b[0m\u001b[0mcanvas\u001b[0m\u001b[0;34m.\u001b[0m\u001b[0mfigure\u001b[0m\u001b[0;34m)\u001b[0m\u001b[0;34m\u001b[0m\u001b[0;34m\u001b[0m\u001b[0m\n\u001b[0m\u001b[1;32m     40\u001b[0m             )\n\u001b[1;32m     41\u001b[0m     \u001b[0;32mfinally\u001b[0m\u001b[0;34m:\u001b[0m\u001b[0;34m\u001b[0m\u001b[0;34m\u001b[0m\u001b[0m\n",
      "\u001b[0;32m~/anaconda3/lib/python3.7/site-packages/IPython/core/display.py\u001b[0m in \u001b[0;36mdisplay\u001b[0;34m(include, exclude, metadata, transient, display_id, *objs, **kwargs)\u001b[0m\n\u001b[1;32m    304\u001b[0m             \u001b[0mpublish_display_data\u001b[0m\u001b[0;34m(\u001b[0m\u001b[0mdata\u001b[0m\u001b[0;34m=\u001b[0m\u001b[0mobj\u001b[0m\u001b[0;34m,\u001b[0m \u001b[0mmetadata\u001b[0m\u001b[0;34m=\u001b[0m\u001b[0mmetadata\u001b[0m\u001b[0;34m,\u001b[0m \u001b[0;34m**\u001b[0m\u001b[0mkwargs\u001b[0m\u001b[0;34m)\u001b[0m\u001b[0;34m\u001b[0m\u001b[0;34m\u001b[0m\u001b[0m\n\u001b[1;32m    305\u001b[0m         \u001b[0;32melse\u001b[0m\u001b[0;34m:\u001b[0m\u001b[0;34m\u001b[0m\u001b[0;34m\u001b[0m\u001b[0m\n\u001b[0;32m--> 306\u001b[0;31m             \u001b[0mformat_dict\u001b[0m\u001b[0;34m,\u001b[0m \u001b[0mmd_dict\u001b[0m \u001b[0;34m=\u001b[0m \u001b[0mformat\u001b[0m\u001b[0;34m(\u001b[0m\u001b[0mobj\u001b[0m\u001b[0;34m,\u001b[0m \u001b[0minclude\u001b[0m\u001b[0;34m=\u001b[0m\u001b[0minclude\u001b[0m\u001b[0;34m,\u001b[0m \u001b[0mexclude\u001b[0m\u001b[0;34m=\u001b[0m\u001b[0mexclude\u001b[0m\u001b[0;34m)\u001b[0m\u001b[0;34m\u001b[0m\u001b[0;34m\u001b[0m\u001b[0m\n\u001b[0m\u001b[1;32m    307\u001b[0m             \u001b[0;32mif\u001b[0m \u001b[0;32mnot\u001b[0m \u001b[0mformat_dict\u001b[0m\u001b[0;34m:\u001b[0m\u001b[0;34m\u001b[0m\u001b[0;34m\u001b[0m\u001b[0m\n\u001b[1;32m    308\u001b[0m                 \u001b[0;31m# nothing to display (e.g. _ipython_display_ took over)\u001b[0m\u001b[0;34m\u001b[0m\u001b[0;34m\u001b[0m\u001b[0;34m\u001b[0m\u001b[0m\n",
      "\u001b[0;32m~/anaconda3/lib/python3.7/site-packages/IPython/core/formatters.py\u001b[0m in \u001b[0;36mformat\u001b[0;34m(self, obj, include, exclude)\u001b[0m\n\u001b[1;32m    178\u001b[0m             \u001b[0mmd\u001b[0m \u001b[0;34m=\u001b[0m \u001b[0;32mNone\u001b[0m\u001b[0;34m\u001b[0m\u001b[0;34m\u001b[0m\u001b[0m\n\u001b[1;32m    179\u001b[0m             \u001b[0;32mtry\u001b[0m\u001b[0;34m:\u001b[0m\u001b[0;34m\u001b[0m\u001b[0;34m\u001b[0m\u001b[0m\n\u001b[0;32m--> 180\u001b[0;31m                 \u001b[0mdata\u001b[0m \u001b[0;34m=\u001b[0m \u001b[0mformatter\u001b[0m\u001b[0;34m(\u001b[0m\u001b[0mobj\u001b[0m\u001b[0;34m)\u001b[0m\u001b[0;34m\u001b[0m\u001b[0;34m\u001b[0m\u001b[0m\n\u001b[0m\u001b[1;32m    181\u001b[0m             \u001b[0;32mexcept\u001b[0m\u001b[0;34m:\u001b[0m\u001b[0;34m\u001b[0m\u001b[0;34m\u001b[0m\u001b[0m\n\u001b[1;32m    182\u001b[0m                 \u001b[0;31m# FIXME: log the exception\u001b[0m\u001b[0;34m\u001b[0m\u001b[0;34m\u001b[0m\u001b[0;34m\u001b[0m\u001b[0m\n",
      "\u001b[0;32m</Users/yush/anaconda3/lib/python3.7/site-packages/decorator.py:decorator-gen-9>\u001b[0m in \u001b[0;36m__call__\u001b[0;34m(self, obj)\u001b[0m\n",
      "\u001b[0;32m~/anaconda3/lib/python3.7/site-packages/IPython/core/formatters.py\u001b[0m in \u001b[0;36mcatch_format_error\u001b[0;34m(method, self, *args, **kwargs)\u001b[0m\n\u001b[1;32m    222\u001b[0m     \u001b[0;34m\"\"\"show traceback on failed format call\"\"\"\u001b[0m\u001b[0;34m\u001b[0m\u001b[0;34m\u001b[0m\u001b[0m\n\u001b[1;32m    223\u001b[0m     \u001b[0;32mtry\u001b[0m\u001b[0;34m:\u001b[0m\u001b[0;34m\u001b[0m\u001b[0;34m\u001b[0m\u001b[0m\n\u001b[0;32m--> 224\u001b[0;31m         \u001b[0mr\u001b[0m \u001b[0;34m=\u001b[0m \u001b[0mmethod\u001b[0m\u001b[0;34m(\u001b[0m\u001b[0mself\u001b[0m\u001b[0;34m,\u001b[0m \u001b[0;34m*\u001b[0m\u001b[0margs\u001b[0m\u001b[0;34m,\u001b[0m \u001b[0;34m**\u001b[0m\u001b[0mkwargs\u001b[0m\u001b[0;34m)\u001b[0m\u001b[0;34m\u001b[0m\u001b[0;34m\u001b[0m\u001b[0m\n\u001b[0m\u001b[1;32m    225\u001b[0m     \u001b[0;32mexcept\u001b[0m \u001b[0mNotImplementedError\u001b[0m\u001b[0;34m:\u001b[0m\u001b[0;34m\u001b[0m\u001b[0;34m\u001b[0m\u001b[0m\n\u001b[1;32m    226\u001b[0m         \u001b[0;31m# don't warn on NotImplementedErrors\u001b[0m\u001b[0;34m\u001b[0m\u001b[0;34m\u001b[0m\u001b[0;34m\u001b[0m\u001b[0m\n",
      "\u001b[0;32m~/anaconda3/lib/python3.7/site-packages/IPython/core/formatters.py\u001b[0m in \u001b[0;36m__call__\u001b[0;34m(self, obj)\u001b[0m\n\u001b[1;32m    339\u001b[0m                 \u001b[0;32mpass\u001b[0m\u001b[0;34m\u001b[0m\u001b[0;34m\u001b[0m\u001b[0m\n\u001b[1;32m    340\u001b[0m             \u001b[0;32melse\u001b[0m\u001b[0;34m:\u001b[0m\u001b[0;34m\u001b[0m\u001b[0;34m\u001b[0m\u001b[0m\n\u001b[0;32m--> 341\u001b[0;31m                 \u001b[0;32mreturn\u001b[0m \u001b[0mprinter\u001b[0m\u001b[0;34m(\u001b[0m\u001b[0mobj\u001b[0m\u001b[0;34m)\u001b[0m\u001b[0;34m\u001b[0m\u001b[0;34m\u001b[0m\u001b[0m\n\u001b[0m\u001b[1;32m    342\u001b[0m             \u001b[0;31m# Finally look for special method names\u001b[0m\u001b[0;34m\u001b[0m\u001b[0;34m\u001b[0m\u001b[0;34m\u001b[0m\u001b[0m\n\u001b[1;32m    343\u001b[0m             \u001b[0mmethod\u001b[0m \u001b[0;34m=\u001b[0m \u001b[0mget_real_method\u001b[0m\u001b[0;34m(\u001b[0m\u001b[0mobj\u001b[0m\u001b[0;34m,\u001b[0m \u001b[0mself\u001b[0m\u001b[0;34m.\u001b[0m\u001b[0mprint_method\u001b[0m\u001b[0;34m)\u001b[0m\u001b[0;34m\u001b[0m\u001b[0;34m\u001b[0m\u001b[0m\n",
      "\u001b[0;32m~/anaconda3/lib/python3.7/site-packages/IPython/core/pylabtools.py\u001b[0m in \u001b[0;36m<lambda>\u001b[0;34m(fig)\u001b[0m\n\u001b[1;32m    242\u001b[0m \u001b[0;34m\u001b[0m\u001b[0m\n\u001b[1;32m    243\u001b[0m     \u001b[0;32mif\u001b[0m \u001b[0;34m'png'\u001b[0m \u001b[0;32min\u001b[0m \u001b[0mformats\u001b[0m\u001b[0;34m:\u001b[0m\u001b[0;34m\u001b[0m\u001b[0;34m\u001b[0m\u001b[0m\n\u001b[0;32m--> 244\u001b[0;31m         \u001b[0mpng_formatter\u001b[0m\u001b[0;34m.\u001b[0m\u001b[0mfor_type\u001b[0m\u001b[0;34m(\u001b[0m\u001b[0mFigure\u001b[0m\u001b[0;34m,\u001b[0m \u001b[0;32mlambda\u001b[0m \u001b[0mfig\u001b[0m\u001b[0;34m:\u001b[0m \u001b[0mprint_figure\u001b[0m\u001b[0;34m(\u001b[0m\u001b[0mfig\u001b[0m\u001b[0;34m,\u001b[0m \u001b[0;34m'png'\u001b[0m\u001b[0;34m,\u001b[0m \u001b[0;34m**\u001b[0m\u001b[0mkwargs\u001b[0m\u001b[0;34m)\u001b[0m\u001b[0;34m)\u001b[0m\u001b[0;34m\u001b[0m\u001b[0;34m\u001b[0m\u001b[0m\n\u001b[0m\u001b[1;32m    245\u001b[0m     \u001b[0;32mif\u001b[0m \u001b[0;34m'retina'\u001b[0m \u001b[0;32min\u001b[0m \u001b[0mformats\u001b[0m \u001b[0;32mor\u001b[0m \u001b[0;34m'png2x'\u001b[0m \u001b[0;32min\u001b[0m \u001b[0mformats\u001b[0m\u001b[0;34m:\u001b[0m\u001b[0;34m\u001b[0m\u001b[0;34m\u001b[0m\u001b[0m\n\u001b[1;32m    246\u001b[0m         \u001b[0mpng_formatter\u001b[0m\u001b[0;34m.\u001b[0m\u001b[0mfor_type\u001b[0m\u001b[0;34m(\u001b[0m\u001b[0mFigure\u001b[0m\u001b[0;34m,\u001b[0m \u001b[0;32mlambda\u001b[0m \u001b[0mfig\u001b[0m\u001b[0;34m:\u001b[0m \u001b[0mretina_figure\u001b[0m\u001b[0;34m(\u001b[0m\u001b[0mfig\u001b[0m\u001b[0;34m,\u001b[0m \u001b[0;34m**\u001b[0m\u001b[0mkwargs\u001b[0m\u001b[0;34m)\u001b[0m\u001b[0;34m)\u001b[0m\u001b[0;34m\u001b[0m\u001b[0;34m\u001b[0m\u001b[0m\n",
      "\u001b[0;32m~/anaconda3/lib/python3.7/site-packages/IPython/core/pylabtools.py\u001b[0m in \u001b[0;36mprint_figure\u001b[0;34m(fig, fmt, bbox_inches, **kwargs)\u001b[0m\n\u001b[1;32m    126\u001b[0m \u001b[0;34m\u001b[0m\u001b[0m\n\u001b[1;32m    127\u001b[0m     \u001b[0mbytes_io\u001b[0m \u001b[0;34m=\u001b[0m \u001b[0mBytesIO\u001b[0m\u001b[0;34m(\u001b[0m\u001b[0;34m)\u001b[0m\u001b[0;34m\u001b[0m\u001b[0;34m\u001b[0m\u001b[0m\n\u001b[0;32m--> 128\u001b[0;31m     \u001b[0mfig\u001b[0m\u001b[0;34m.\u001b[0m\u001b[0mcanvas\u001b[0m\u001b[0;34m.\u001b[0m\u001b[0mprint_figure\u001b[0m\u001b[0;34m(\u001b[0m\u001b[0mbytes_io\u001b[0m\u001b[0;34m,\u001b[0m \u001b[0;34m**\u001b[0m\u001b[0mkw\u001b[0m\u001b[0;34m)\u001b[0m\u001b[0;34m\u001b[0m\u001b[0;34m\u001b[0m\u001b[0m\n\u001b[0m\u001b[1;32m    129\u001b[0m     \u001b[0mdata\u001b[0m \u001b[0;34m=\u001b[0m \u001b[0mbytes_io\u001b[0m\u001b[0;34m.\u001b[0m\u001b[0mgetvalue\u001b[0m\u001b[0;34m(\u001b[0m\u001b[0;34m)\u001b[0m\u001b[0;34m\u001b[0m\u001b[0;34m\u001b[0m\u001b[0m\n\u001b[1;32m    130\u001b[0m     \u001b[0;32mif\u001b[0m \u001b[0mfmt\u001b[0m \u001b[0;34m==\u001b[0m \u001b[0;34m'svg'\u001b[0m\u001b[0;34m:\u001b[0m\u001b[0;34m\u001b[0m\u001b[0;34m\u001b[0m\u001b[0m\n",
      "\u001b[0;32m~/anaconda3/lib/python3.7/site-packages/matplotlib/backend_bases.py\u001b[0m in \u001b[0;36mprint_figure\u001b[0;34m(self, filename, dpi, facecolor, edgecolor, orientation, format, bbox_inches, **kwargs)\u001b[0m\n\u001b[1;32m   2058\u001b[0m                     \u001b[0mbbox_artists\u001b[0m \u001b[0;34m=\u001b[0m \u001b[0mkwargs\u001b[0m\u001b[0;34m.\u001b[0m\u001b[0mpop\u001b[0m\u001b[0;34m(\u001b[0m\u001b[0;34m\"bbox_extra_artists\"\u001b[0m\u001b[0;34m,\u001b[0m \u001b[0;32mNone\u001b[0m\u001b[0;34m)\u001b[0m\u001b[0;34m\u001b[0m\u001b[0;34m\u001b[0m\u001b[0m\n\u001b[1;32m   2059\u001b[0m                     bbox_inches = self.figure.get_tightbbox(renderer,\n\u001b[0;32m-> 2060\u001b[0;31m                             bbox_extra_artists=bbox_artists)\n\u001b[0m\u001b[1;32m   2061\u001b[0m                     \u001b[0mpad\u001b[0m \u001b[0;34m=\u001b[0m \u001b[0mkwargs\u001b[0m\u001b[0;34m.\u001b[0m\u001b[0mpop\u001b[0m\u001b[0;34m(\u001b[0m\u001b[0;34m\"pad_inches\"\u001b[0m\u001b[0;34m,\u001b[0m \u001b[0;32mNone\u001b[0m\u001b[0;34m)\u001b[0m\u001b[0;34m\u001b[0m\u001b[0;34m\u001b[0m\u001b[0m\n\u001b[1;32m   2062\u001b[0m                     \u001b[0;32mif\u001b[0m \u001b[0mpad\u001b[0m \u001b[0;32mis\u001b[0m \u001b[0;32mNone\u001b[0m\u001b[0;34m:\u001b[0m\u001b[0;34m\u001b[0m\u001b[0;34m\u001b[0m\u001b[0m\n",
      "\u001b[0;32m~/anaconda3/lib/python3.7/site-packages/matplotlib/figure.py\u001b[0m in \u001b[0;36mget_tightbbox\u001b[0;34m(self, renderer, bbox_extra_artists)\u001b[0m\n\u001b[1;32m   2374\u001b[0m                 \u001b[0;32mtry\u001b[0m\u001b[0;34m:\u001b[0m\u001b[0;34m\u001b[0m\u001b[0;34m\u001b[0m\u001b[0m\n\u001b[1;32m   2375\u001b[0m                     bbox = ax.get_tightbbox(renderer,\n\u001b[0;32m-> 2376\u001b[0;31m                             bbox_extra_artists=bbox_extra_artists)\n\u001b[0m\u001b[1;32m   2377\u001b[0m                 \u001b[0;32mexcept\u001b[0m \u001b[0mTypeError\u001b[0m\u001b[0;34m:\u001b[0m\u001b[0;34m\u001b[0m\u001b[0;34m\u001b[0m\u001b[0m\n\u001b[1;32m   2378\u001b[0m                     \u001b[0mbbox\u001b[0m \u001b[0;34m=\u001b[0m \u001b[0max\u001b[0m\u001b[0;34m.\u001b[0m\u001b[0mget_tightbbox\u001b[0m\u001b[0;34m(\u001b[0m\u001b[0mrenderer\u001b[0m\u001b[0;34m)\u001b[0m\u001b[0;34m\u001b[0m\u001b[0;34m\u001b[0m\u001b[0m\n",
      "\u001b[0;32m~/anaconda3/lib/python3.7/site-packages/matplotlib/axes/_base.py\u001b[0m in \u001b[0;36mget_tightbbox\u001b[0;34m(self, renderer, call_axes_locator, bbox_extra_artists)\u001b[0m\n\u001b[1;32m   4350\u001b[0m                 \u001b[0mbb\u001b[0m\u001b[0;34m.\u001b[0m\u001b[0mappend\u001b[0m\u001b[0;34m(\u001b[0m\u001b[0mbb_xaxis\u001b[0m\u001b[0;34m)\u001b[0m\u001b[0;34m\u001b[0m\u001b[0;34m\u001b[0m\u001b[0m\n\u001b[1;32m   4351\u001b[0m \u001b[0;34m\u001b[0m\u001b[0m\n\u001b[0;32m-> 4352\u001b[0;31m             \u001b[0mbb_yaxis\u001b[0m \u001b[0;34m=\u001b[0m \u001b[0mself\u001b[0m\u001b[0;34m.\u001b[0m\u001b[0myaxis\u001b[0m\u001b[0;34m.\u001b[0m\u001b[0mget_tightbbox\u001b[0m\u001b[0;34m(\u001b[0m\u001b[0mrenderer\u001b[0m\u001b[0;34m)\u001b[0m\u001b[0;34m\u001b[0m\u001b[0;34m\u001b[0m\u001b[0m\n\u001b[0m\u001b[1;32m   4353\u001b[0m             \u001b[0;32mif\u001b[0m \u001b[0mbb_yaxis\u001b[0m\u001b[0;34m:\u001b[0m\u001b[0;34m\u001b[0m\u001b[0;34m\u001b[0m\u001b[0m\n\u001b[1;32m   4354\u001b[0m                 \u001b[0mbb\u001b[0m\u001b[0;34m.\u001b[0m\u001b[0mappend\u001b[0m\u001b[0;34m(\u001b[0m\u001b[0mbb_yaxis\u001b[0m\u001b[0;34m)\u001b[0m\u001b[0;34m\u001b[0m\u001b[0;34m\u001b[0m\u001b[0m\n",
      "\u001b[0;32m~/anaconda3/lib/python3.7/site-packages/matplotlib/axis.py\u001b[0m in \u001b[0;36mget_tightbbox\u001b[0;34m(self, renderer)\u001b[0m\n\u001b[1;32m   1163\u001b[0m         \u001b[0mticks_to_draw\u001b[0m \u001b[0;34m=\u001b[0m \u001b[0mself\u001b[0m\u001b[0;34m.\u001b[0m\u001b[0m_update_ticks\u001b[0m\u001b[0;34m(\u001b[0m\u001b[0;34m)\u001b[0m\u001b[0;34m\u001b[0m\u001b[0;34m\u001b[0m\u001b[0m\n\u001b[1;32m   1164\u001b[0m \u001b[0;34m\u001b[0m\u001b[0m\n\u001b[0;32m-> 1165\u001b[0;31m         \u001b[0mself\u001b[0m\u001b[0;34m.\u001b[0m\u001b[0m_update_label_position\u001b[0m\u001b[0;34m(\u001b[0m\u001b[0mrenderer\u001b[0m\u001b[0;34m)\u001b[0m\u001b[0;34m\u001b[0m\u001b[0;34m\u001b[0m\u001b[0m\n\u001b[0m\u001b[1;32m   1166\u001b[0m \u001b[0;34m\u001b[0m\u001b[0m\n\u001b[1;32m   1167\u001b[0m         \u001b[0;31m# go back to just this axis's tick labels\u001b[0m\u001b[0;34m\u001b[0m\u001b[0;34m\u001b[0m\u001b[0;34m\u001b[0m\u001b[0m\n",
      "\u001b[0;31mKeyboardInterrupt\u001b[0m: "
     ]
    }
   ],
   "source": [
    "\n",
    "for i in range(len(preds_test_cl)):\n",
    "    if preds_test_cl[i].argmax() != y_test[i].argmax():\n",
    "        plt.imshow(cleaned_test[i, :, :, :].reshape(28, 28))\n",
    "        plt.show()\n",
    "        print(i, preds_test_cl[i].argmax(), y_test[i].argmax())"
   ]
  },
  {
   "cell_type": "code",
   "execution_count": 76,
   "metadata": {},
   "outputs": [],
   "source": [
    "(_, _), (_, temp_test) = mnist.load_data()\n"
   ]
  },
  {
   "cell_type": "code",
   "execution_count": 86,
   "metadata": {},
   "outputs": [
    {
     "name": "stderr",
     "output_type": "stream",
     "text": [
      "/Users/yush/anaconda3/lib/python3.7/site-packages/ipykernel_launcher.py:9: MatplotlibDeprecationWarning: Adding an axes using the same arguments as a previous axes currently reuses the earlier instance.  In a future version, a new instance will always be created and returned.  Meanwhile, this warning can be suppressed, and the future behavior ensured, by passing a unique label to each axes instance.\n",
      "  if __name__ == '__main__':\n"
     ]
    },
    {
     "ename": "IndexError",
     "evalue": "index 3 is out of bounds for axis 0 with size 3",
     "output_type": "error",
     "traceback": [
      "\u001b[0;31m---------------------------------------------------------------------------\u001b[0m",
      "\u001b[0;31mIndexError\u001b[0m                                Traceback (most recent call last)",
      "\u001b[0;32m<ipython-input-86-c9b01a0f2283>\u001b[0m in \u001b[0;36m<module>\u001b[0;34m\u001b[0m\n\u001b[1;32m      8\u001b[0m     \u001b[0;32mfor\u001b[0m \u001b[0mi\u001b[0m \u001b[0;32min\u001b[0m \u001b[0mrange\u001b[0m\u001b[0;34m(\u001b[0m\u001b[0;36m9\u001b[0m\u001b[0;34m)\u001b[0m\u001b[0;34m:\u001b[0m\u001b[0;34m\u001b[0m\u001b[0;34m\u001b[0m\u001b[0m\n\u001b[1;32m      9\u001b[0m         \u001b[0mplt\u001b[0m\u001b[0;34m.\u001b[0m\u001b[0msubplot\u001b[0m\u001b[0;34m(\u001b[0m\u001b[0;36m330\u001b[0m\u001b[0;34m+\u001b[0m\u001b[0;36m1\u001b[0m\u001b[0;34m+\u001b[0m\u001b[0mi\u001b[0m\u001b[0;34m)\u001b[0m\u001b[0;34m\u001b[0m\u001b[0;34m\u001b[0m\u001b[0m\n\u001b[0;32m---> 10\u001b[0;31m         \u001b[0mplt\u001b[0m\u001b[0;34m.\u001b[0m\u001b[0mimshow\u001b[0m\u001b[0;34m(\u001b[0m\u001b[0mx_batch\u001b[0m\u001b[0;34m[\u001b[0m\u001b[0mi\u001b[0m\u001b[0;34m]\u001b[0m\u001b[0;34m.\u001b[0m\u001b[0mreshape\u001b[0m\u001b[0;34m(\u001b[0m\u001b[0;36m28\u001b[0m\u001b[0;34m,\u001b[0m \u001b[0;36m28\u001b[0m\u001b[0;34m)\u001b[0m\u001b[0;34m,\u001b[0m \u001b[0mcmap\u001b[0m\u001b[0;34m=\u001b[0m\u001b[0;34m'gray'\u001b[0m\u001b[0;34m)\u001b[0m\u001b[0;34m\u001b[0m\u001b[0;34m\u001b[0m\u001b[0m\n\u001b[0m",
      "\u001b[0;31mIndexError\u001b[0m: index 3 is out of bounds for axis 0 with size 3"
     ]
    },
    {
     "data": {
      "image/png": "[encoded data removed]",
      "text/plain": [
       "<Figure size 432x288 with 9 Axes>"
      ]
     },
     "metadata": {
      "needs_background": "light"
     },
     "output_type": "display_data"
    }
   ],
   "source": [
    "from tensorflow.keras.preprocessing.image import ImageDataGenerator\n",
    "\n",
    "datagen = ImageDataGenerator(zca_whitening=True)\n",
    "\n",
    "datagen.fit(cleaned_test)\n",
    "\n",
    "for x_batch, y_batch in datagen.flow(cleaned_test, temp_test[:3000], batch_size=9):\n",
    "    for i in range(9):\n",
    "        plt.subplot(330+1+i)\n",
    "        plt.imshow(x_batch[i].reshape(28, 28), cmap='gray')"
   ]
  },
  {
   "cell_type": "code",
   "execution_count": 85,
   "metadata": {},
   "outputs": [
    {
     "data": {
      "text/plain": [
       "(3000,)"
      ]
     },
     "execution_count": 85,
     "metadata": {},
     "output_type": "execute_result"
    }
   ],
   "source": [
    "temp_test[:3000].shape"
   ]
  },
  {
   "cell_type": "code",
   "execution_count": 154,
   "metadata": {},
   "outputs": [
    {
     "data": {
      "image/png": "[encoded data removed]",
      "text/plain": [
       "<Figure size 432x288 with 1 Axes>"
      ]
     },
     "metadata": {
      "needs_background": "light"
     },
     "output_type": "display_data"
    },
    {
     "data": {
      "image/png": "[encoded data removed]",
      "text/plain": [
       "<Figure size 432x288 with 1 Axes>"
      ]
     },
     "metadata": {
      "needs_background": "light"
     },
     "output_type": "display_data"
    }
   ],
   "source": [
    "pic = 61\n",
    "plt.imshow(x_adversarial_test[pic, :, :, :].reshape(28, 28))\n",
    "plt.show()\n",
    "plt.imshow(x_test[pic, :, :, :].reshape(28, 28))\n",
    "plt.show()"
   ]
  },
  {
   "cell_type": "code",
   "execution_count": 151,
   "metadata": {},
   "outputs": [
    {
     "name": "stdout",
     "output_type": "stream",
     "text": [
      "313/313 [==============================] - 0s 1ms/step - loss: 0.0079 - accuracy: 0.9523\n",
      "313/313 [==============================] - 0s 1ms/step - loss: 0.0029 - accuracy: 0.9818\n"
     ]
    },
    {
     "data": {
      "text/plain": [
       "([0.007921529933810234, 0.9523000121116638],\n",
       " [0.0029318640008568764, 0.9818000197410583])"
      ]
     },
     "execution_count": 151,
     "metadata": {},
     "output_type": "execute_result"
    }
   ],
   "source": [
    "model.evaluate(denoiser.predict(x_test), y_test), model.evaluate(x_test, y_test)"
   ]
  },
  {
   "cell_type": "markdown",
   "metadata": {},
   "source": [
    "The denoising Autoencoder takes the accuracy up to 85%. When looking at error analysis, the autoencoder is able to clean most of the images pretty well, even at high noise levels, however, there are few examples where the autoencoder generates a confusing version of the cleaned image, because some of the parts of the image are slightly faded.\n",
    "\n",
    "Also, I have tested the autoencoder on clean images itself, to see if a simple pipeline can be established, and fortunately, the denoising autoencoder doens't harm normal images too much.\n",
    "\n",
    "We also can't apply a threshold filter to clean images, since sometimes the autoencoder is not completely able to eliminate noise, so there are fatal faded spots. Other times, the model accidentally fades out important parts of the image, creating a problem. However, the accuracy has still gone up significantly, in a more robust way."
   ]
  },
  {
   "cell_type": "markdown",
   "metadata": {},
   "source": [
    "Now I will try the last and final approach of hypothesis testing. Here, I will try and compare the variances and mean values of different digits, and if they are different, then we can establish a p-test to make sure our model didn't misclassify images. First, lets separate all of the images based on their category."
   ]
  },
  {
   "cell_type": "code",
   "execution_count": 99,
   "metadata": {},
   "outputs": [],
   "source": [
    "for i in range(10):\n",
    "    command = \"num_\" + str(i) + \" = x_test[temp_test == \" + str(i) + \"]\"\n",
    "    exec(command)"
   ]
  },
  {
   "cell_type": "code",
   "execution_count": 102,
   "metadata": {},
   "outputs": [
    {
     "data": {
      "text/plain": [
       "<matplotlib.image.AxesImage at 0x7fad6dfffe80>"
      ]
     },
     "execution_count": 102,
     "metadata": {},
     "output_type": "execute_result"
    },
    {
     "data": {
      "image/png": "[encoded data removed]",
      "text/plain": [
       "<Figure size 432x288 with 1 Axes>"
      ]
     },
     "metadata": {
      "needs_background": "light"
     },
     "output_type": "display_data"
    }
   ],
   "source": [
    "plt.imshow(num_2[10].reshape(28, 28))"
   ]
  },
  {
   "cell_type": "code",
   "execution_count": 119,
   "metadata": {},
   "outputs": [],
   "source": [
    "means = []\n",
    "vari = []\n",
    "for i in range(10):\n",
    "    means.append(np.mean(eval(\"num_\" + str(i))))\n",
    "    vari.append(np.var(eval(\"num_\" + str(i))))"
   ]
  },
  {
   "cell_type": "code",
   "execution_count": 121,
   "metadata": {},
   "outputs": [
    {
     "data": {
      "text/plain": [
       "(array([0.17231035, 0.0767375 , 0.15018502, 0.14330528, 0.1226675 ,\n",
       "        0.13205391, 0.14357606, 0.11490118, 0.15312719, 0.12526645]),\n",
       " array([0.12043064, 0.0604149 , 0.10728259, 0.10258094, 0.0895898 ,\n",
       "        0.09469835, 0.10344179, 0.08544615, 0.10789361, 0.09124957]))"
      ]
     },
     "execution_count": 121,
     "metadata": {},
     "output_type": "execute_result"
    }
   ],
   "source": [
    "np.array(means), np.array(vari)"
   ]
  },
  {
   "cell_type": "markdown",
   "metadata": {},
   "source": [
    "We intantly see that this approach cannot work, because too many digits show similar characteristics. Many digits have a mean and variance which are both within the 3rd decimal place for each other, which is more than even the 1 standard deviation range. Hence we cannot segregate digits, and so a p-test cannot be established.\n",
    "\n",
    "Examples of issues:\n",
    "\n",
    "- Digits 2 and 8 have a similar mean and variance\n",
    "- Digits 3 and 6 have a similar mean and varianc\n",
    "\n",
    "If a p-test is established, a simple targetted attack for misclassifying 2 as 8 or 3 as 6 (or vice versa), could simply bypass the system."
   ]
  },
  {
   "cell_type": "code",
   "execution_count": 122,
   "metadata": {},
   "outputs": [],
   "source": [
    "def drop_batch_model():\n",
    "    X_Input = Input((img_rows, img_cols, channels))\n",
    "    X = Conv2D(32, kernel_size=(3, 3), strides=(3, 3), padding='same', activation='relu')(X_Input)\n",
    "    X = BatchNormalization()(X, training=True)#\n",
    "    X = Dropout(0.45)(X, training=True)   #Extra block added\n",
    "    X = Conv2D(64, kernel_size=(3, 3), strides=(3, 3), padding='same', activation='relu')(X)\n",
    "    X = BatchNormalization()(X, training=True)#\n",
    "    X = Conv2D(64, kernel_size=(3, 3), strides=(3, 3), padding='same', activation='relu')(X)\n",
    "    X = MaxPooling2D(pool_size=(2, 2))(X)\n",
    "    X = BatchNormalization()(X, training=True)#\n",
    "    X = Dropout(0.3)(X, training=True)\n",
    "    X = Flatten()(X)\n",
    "    X = Dense(32)(X)\n",
    "    X = BatchNormalization()(X, training=True)#\n",
    "    X = Dropout(0.075)(X, training=True)\n",
    "    X = Dense(32)(X)\n",
    "    X = BatchNormalization()(X, training=True)#\n",
    "    X = Dropout(0.05)(X, training=True)\n",
    "    X = Dense(num_classes, activation='softmax')(X)\n",
    "    \n",
    "    model = Model(inputs = X_Input, outputs = X)\n",
    "    return model"
   ]
  },
  {
   "cell_type": "code",
   "execution_count": 136,
   "metadata": {},
   "outputs": [],
   "source": [
    "def proxy():\n",
    "    X_Input = Input((img_rows, img_cols, channels))\n",
    "    X = Conv2D(32, kernel_size=(3, 3), strides=(3, 3), padding='same', activation='relu')(X_Input)\n",
    "    X = BatchNormalization()(X)#\n",
    "    X = Dropout(0.45)(X, training=True)   #Extra block added\n",
    "    X = Conv2D(64, kernel_size=(3, 3), strides=(3, 3), padding='same', activation='relu')(X)\n",
    "    X = BatchNormalization()(X)#\n",
    "    X = Conv2D(64, kernel_size=(3, 3), strides=(3, 3), padding='same', activation='relu')(X)\n",
    "    X = MaxPooling2D(pool_size=(2, 2))(X)\n",
    "    X = BatchNormalization()(X)#\n",
    "    X = Dropout(0.3)(X, training=True)\n",
    "    X = Flatten()(X)\n",
    "    X = Dense(32)(X)\n",
    "    X = BatchNormalization()(X)#\n",
    "    X = Dropout(0.075)(X, training=True)\n",
    "    X = Dense(32)(X)\n",
    "    X = BatchNormalization()(X)#\n",
    "    X = Dropout(0.05)(X, training=True)\n",
    "    X = Dense(num_classes, activation='softmax')(X)\n",
    "    \n",
    "    model = Model(inputs = X_Input, outputs = X)\n",
    "    return model"
   ]
  },
  {
   "cell_type": "code",
   "execution_count": 137,
   "metadata": {},
   "outputs": [
    {
     "name": "stdout",
     "output_type": "stream",
     "text": [
      "Model: \"model_7\"\n",
      "_________________________________________________________________\n",
      "Layer (type)                 Output Shape              Param #   \n",
      "=================================================================\n",
      "input_8 (InputLayer)         [(None, 28, 28, 1)]       0         \n",
      "_________________________________________________________________\n",
      "conv2d_15 (Conv2D)           (None, 10, 10, 32)        320       \n",
      "_________________________________________________________________\n",
      "batch_normalization_10 (Batc (None, 10, 10, 32)        128       \n",
      "_________________________________________________________________\n",
      "dropout_14 (Dropout)         (None, 10, 10, 32)        0         \n",
      "_________________________________________________________________\n",
      "conv2d_16 (Conv2D)           (None, 4, 4, 64)          18496     \n",
      "_________________________________________________________________\n",
      "batch_normalization_11 (Batc (None, 4, 4, 64)          256       \n",
      "_________________________________________________________________\n",
      "conv2d_17 (Conv2D)           (None, 2, 2, 64)          36928     \n",
      "_________________________________________________________________\n",
      "max_pooling2d_4 (MaxPooling2 (None, 1, 1, 64)          0         \n",
      "_________________________________________________________________\n",
      "batch_normalization_12 (Batc (None, 1, 1, 64)          256       \n",
      "_________________________________________________________________\n",
      "dropout_15 (Dropout)         (None, 1, 1, 64)          0         \n",
      "_________________________________________________________________\n",
      "flatten_5 (Flatten)          (None, 64)                0         \n",
      "_________________________________________________________________\n",
      "dense_14 (Dense)             (None, 32)                2080      \n",
      "_________________________________________________________________\n",
      "batch_normalization_13 (Batc (None, 32)                128       \n",
      "_________________________________________________________________\n",
      "dropout_16 (Dropout)         (None, 32)                0         \n",
      "_________________________________________________________________\n",
      "dense_15 (Dense)             (None, 32)                1056      \n",
      "_________________________________________________________________\n",
      "batch_normalization_14 (Batc (None, 32)                128       \n",
      "_________________________________________________________________\n",
      "dropout_17 (Dropout)         (None, 32)                0         \n",
      "_________________________________________________________________\n",
      "dense_16 (Dense)             (None, 10)                330       \n",
      "=================================================================\n",
      "Total params: 60,106\n",
      "Trainable params: 59,658\n",
      "Non-trainable params: 448\n",
      "_________________________________________________________________\n"
     ]
    }
   ],
   "source": [
    "proxy_m = proxy()\n",
    "proxy_m.compile(optimizer='adam', loss='mse', metrics=['accuracy'])\n",
    "proxy_m.summary()"
   ]
  },
  {
   "cell_type": "code",
   "execution_count": 138,
   "metadata": {},
   "outputs": [
    {
     "name": "stdout",
     "output_type": "stream",
     "text": [
      "Epoch 1/20\n",
      "1875/1875 [==============================] - 11s 6ms/step - loss: 0.0192 - accuracy: 0.8688 - val_loss: 0.0082 - val_accuracy: 0.9471\n",
      "Epoch 2/20\n",
      "1875/1875 [==============================] - 11s 6ms/step - loss: 0.0091 - accuracy: 0.9400 - val_loss: 0.0071 - val_accuracy: 0.9527\n",
      "Epoch 3/20\n",
      "1875/1875 [==============================] - 11s 6ms/step - loss: 0.0076 - accuracy: 0.9499 - val_loss: 0.0055 - val_accuracy: 0.9637\n",
      "Epoch 4/20\n",
      "1875/1875 [==============================] - 11s 6ms/step - loss: 0.0066 - accuracy: 0.9568 - val_loss: 0.0055 - val_accuracy: 0.9631\n",
      "Epoch 5/20\n",
      "1875/1875 [==============================] - 11s 6ms/step - loss: 0.0063 - accuracy: 0.9587 - val_loss: 0.0050 - val_accuracy: 0.9669\n",
      "Epoch 6/20\n",
      "1875/1875 [==============================] - 12s 6ms/step - loss: 0.0059 - accuracy: 0.9617 - val_loss: 0.0046 - val_accuracy: 0.9704\n",
      "Epoch 7/20\n",
      "1875/1875 [==============================] - 11s 6ms/step - loss: 0.0056 - accuracy: 0.9637 - val_loss: 0.0050 - val_accuracy: 0.9662\n",
      "Epoch 8/20\n",
      "1875/1875 [==============================] - 12s 6ms/step - loss: 0.0053 - accuracy: 0.9663 - val_loss: 0.0045 - val_accuracy: 0.9713\n",
      "Epoch 9/20\n",
      "1875/1875 [==============================] - 12s 7ms/step - loss: 0.0051 - accuracy: 0.9671 - val_loss: 0.0043 - val_accuracy: 0.9721\n",
      "Epoch 10/20\n",
      "1875/1875 [==============================] - 17s 9ms/step - loss: 0.0049 - accuracy: 0.9680 - val_loss: 0.0044 - val_accuracy: 0.9707\n",
      "Epoch 11/20\n",
      "1875/1875 [==============================] - 21s 11ms/step - loss: 0.0047 - accuracy: 0.9696 - val_loss: 0.0040 - val_accuracy: 0.9752\n",
      "Epoch 12/20\n",
      "1875/1875 [==============================] - 21s 11ms/step - loss: 0.0046 - accuracy: 0.9700 - val_loss: 0.0042 - val_accuracy: 0.9727\n",
      "Epoch 13/20\n",
      "1875/1875 [==============================] - 16s 9ms/step - loss: 0.0044 - accuracy: 0.9721 - val_loss: 0.0039 - val_accuracy: 0.9739\n",
      "Epoch 14/20\n",
      "1875/1875 [==============================] - 14s 8ms/step - loss: 0.0044 - accuracy: 0.9719 - val_loss: 0.0040 - val_accuracy: 0.9738\n",
      "Epoch 15/20\n",
      "1875/1875 [==============================] - 15s 8ms/step - loss: 0.0043 - accuracy: 0.9721 - val_loss: 0.0040 - val_accuracy: 0.9748\n",
      "Epoch 16/20\n",
      "1875/1875 [==============================] - 16s 8ms/step - loss: 0.0041 - accuracy: 0.9730 - val_loss: 0.0037 - val_accuracy: 0.9758\n",
      "Epoch 17/20\n",
      "1875/1875 [==============================] - 17s 9ms/step - loss: 0.0041 - accuracy: 0.9729 - val_loss: 0.0038 - val_accuracy: 0.9752\n",
      "Epoch 18/20\n",
      "1875/1875 [==============================] - 19s 10ms/step - loss: 0.0041 - accuracy: 0.9733 - val_loss: 0.0036 - val_accuracy: 0.9766\n",
      "Epoch 19/20\n",
      "1875/1875 [==============================] - 18s 10ms/step - loss: 0.0040 - accuracy: 0.9744 - val_loss: 0.0037 - val_accuracy: 0.9757\n",
      "Epoch 20/20\n",
      "1875/1875 [==============================] - 17s 9ms/step - loss: 0.0038 - accuracy: 0.9755 - val_loss: 0.0036 - val_accuracy: 0.9765\n"
     ]
    },
    {
     "data": {
      "text/plain": [
       "<tensorflow.python.keras.callbacks.History at 0x7fad6d965080>"
      ]
     },
     "execution_count": 138,
     "metadata": {},
     "output_type": "execute_result"
    }
   ],
   "source": [
    "proxy_m.fit(x_train, y_train, batch_size=32, epochs=20, validation_data = (x_test, y_test))"
   ]
  },
  {
   "cell_type": "code",
   "execution_count": 127,
   "metadata": {},
   "outputs": [
    {
     "name": "stdout",
     "output_type": "stream",
     "text": [
      "Model: \"model_6\"\n",
      "_________________________________________________________________\n",
      "Layer (type)                 Output Shape              Param #   \n",
      "=================================================================\n",
      "input_7 (InputLayer)         [(None, 28, 28, 1)]       0         \n",
      "_________________________________________________________________\n",
      "conv2d_12 (Conv2D)           (None, 10, 10, 32)        320       \n",
      "_________________________________________________________________\n",
      "batch_normalization_5 (Batch (None, 10, 10, 32)        128       \n",
      "_________________________________________________________________\n",
      "dropout_10 (Dropout)         (None, 10, 10, 32)        0         \n",
      "_________________________________________________________________\n",
      "conv2d_13 (Conv2D)           (None, 4, 4, 64)          18496     \n",
      "_________________________________________________________________\n",
      "batch_normalization_6 (Batch (None, 4, 4, 64)          256       \n",
      "_________________________________________________________________\n",
      "conv2d_14 (Conv2D)           (None, 2, 2, 64)          36928     \n",
      "_________________________________________________________________\n",
      "max_pooling2d_3 (MaxPooling2 (None, 1, 1, 64)          0         \n",
      "_________________________________________________________________\n",
      "batch_normalization_7 (Batch (None, 1, 1, 64)          256       \n",
      "_________________________________________________________________\n",
      "dropout_11 (Dropout)         (None, 1, 1, 64)          0         \n",
      "_________________________________________________________________\n",
      "flatten_4 (Flatten)          (None, 64)                0         \n",
      "_________________________________________________________________\n",
      "dense_11 (Dense)             (None, 32)                2080      \n",
      "_________________________________________________________________\n",
      "batch_normalization_8 (Batch (None, 32)                128       \n",
      "_________________________________________________________________\n",
      "dropout_12 (Dropout)         (None, 32)                0         \n",
      "_________________________________________________________________\n",
      "dense_12 (Dense)             (None, 32)                1056      \n",
      "_________________________________________________________________\n",
      "batch_normalization_9 (Batch (None, 32)                128       \n",
      "_________________________________________________________________\n",
      "dropout_13 (Dropout)         (None, 32)                0         \n",
      "_________________________________________________________________\n",
      "dense_13 (Dense)             (None, 10)                330       \n",
      "=================================================================\n",
      "Total params: 60,106\n",
      "Trainable params: 59,658\n",
      "Non-trainable params: 448\n",
      "_________________________________________________________________\n"
     ]
    }
   ],
   "source": [
    "drop_batch_m = drop_batch_model()\n",
    "drop_batch_m.compile(optimizer='adam', loss='mse', metrics=['accuracy'])\n",
    "drop_batch_m.summary()"
   ]
  },
  {
   "cell_type": "code",
   "execution_count": 128,
   "metadata": {},
   "outputs": [
    {
     "name": "stdout",
     "output_type": "stream",
     "text": [
      "Epoch 1/20\n",
      "1875/1875 [==============================] - 12s 6ms/step - loss: 0.0197 - accuracy: 0.8653 - val_loss: 0.0095 - val_accuracy: 0.9395\n",
      "Epoch 2/20\n",
      "1875/1875 [==============================] - 12s 6ms/step - loss: 0.0096 - accuracy: 0.9366 - val_loss: 0.0079 - val_accuracy: 0.9493\n",
      "Epoch 3/20\n",
      "1875/1875 [==============================] - 12s 7ms/step - loss: 0.0080 - accuracy: 0.9478 - val_loss: 0.0067 - val_accuracy: 0.9576\n",
      "Epoch 4/20\n",
      "1875/1875 [==============================] - 13s 7ms/step - loss: 0.0070 - accuracy: 0.9539 - val_loss: 0.0066 - val_accuracy: 0.9563\n",
      "Epoch 5/20\n",
      "1875/1875 [==============================] - 13s 7ms/step - loss: 0.0066 - accuracy: 0.9569 - val_loss: 0.0059 - val_accuracy: 0.9615\n",
      "Epoch 6/20\n",
      "1875/1875 [==============================] - 15s 8ms/step - loss: 0.0060 - accuracy: 0.9604 - val_loss: 0.0057 - val_accuracy: 0.9624\n",
      "Epoch 7/20\n",
      "1875/1875 [==============================] - 14s 8ms/step - loss: 0.0057 - accuracy: 0.9629 - val_loss: 0.0054 - val_accuracy: 0.9649\n",
      "Epoch 8/20\n",
      "1875/1875 [==============================] - 15s 8ms/step - loss: 0.0055 - accuracy: 0.9643 - val_loss: 0.0052 - val_accuracy: 0.9652\n",
      "Epoch 9/20\n",
      "1875/1875 [==============================] - 22s 12ms/step - loss: 0.0052 - accuracy: 0.9663 - val_loss: 0.0053 - val_accuracy: 0.9648\n",
      "Epoch 10/20\n",
      "1875/1875 [==============================] - 24s 13ms/step - loss: 0.0050 - accuracy: 0.9669 - val_loss: 0.0048 - val_accuracy: 0.9684\n",
      "Epoch 11/20\n",
      "1875/1875 [==============================] - 19s 10ms/step - loss: 0.0048 - accuracy: 0.9684 - val_loss: 0.0045 - val_accuracy: 0.9706\n",
      "Epoch 12/20\n",
      "1875/1875 [==============================] - 16s 9ms/step - loss: 0.0048 - accuracy: 0.9686 - val_loss: 0.0048 - val_accuracy: 0.9693\n",
      "Epoch 13/20\n",
      "1875/1875 [==============================] - 16s 8ms/step - loss: 0.0046 - accuracy: 0.9703 - val_loss: 0.0048 - val_accuracy: 0.9676\n",
      "Epoch 14/20\n",
      "1875/1875 [==============================] - 15s 8ms/step - loss: 0.0044 - accuracy: 0.9712 - val_loss: 0.0047 - val_accuracy: 0.9691\n",
      "Epoch 15/20\n",
      "1875/1875 [==============================] - 17s 9ms/step - loss: 0.0045 - accuracy: 0.9710 - val_loss: 0.0047 - val_accuracy: 0.9691\n",
      "Epoch 16/20\n",
      "1875/1875 [==============================] - 21s 11ms/step - loss: 0.0042 - accuracy: 0.9733 - val_loss: 0.0042 - val_accuracy: 0.9741\n",
      "Epoch 17/20\n",
      "1875/1875 [==============================] - 27s 14ms/step - loss: 0.0041 - accuracy: 0.9725 - val_loss: 0.0043 - val_accuracy: 0.9723\n",
      "Epoch 18/20\n",
      "1875/1875 [==============================] - 24s 13ms/step - loss: 0.0042 - accuracy: 0.9728 - val_loss: 0.0045 - val_accuracy: 0.9709\n",
      "Epoch 19/20\n",
      "1875/1875 [==============================] - 18s 10ms/step - loss: 0.0041 - accuracy: 0.9736 - val_loss: 0.0043 - val_accuracy: 0.9713\n",
      "Epoch 20/20\n",
      "1875/1875 [==============================] - 16s 9ms/step - loss: 0.0039 - accuracy: 0.9747 - val_loss: 0.0042 - val_accuracy: 0.9744\n"
     ]
    }
   ],
   "source": [
    "history = drop_batch_m.fit(x_train, y_train, batch_size=32, epochs=20, validation_data = (x_test, y_test))"
   ]
  },
  {
   "cell_type": "code",
   "execution_count": 130,
   "metadata": {},
   "outputs": [
    {
     "name": "stdout",
     "output_type": "stream",
     "text": [
      "Original Model's Accuracy is \n",
      "313/313 [==============================] - 0s 1ms/step - loss: 0.0029 - accuracy: 0.9818\n",
      "Dropout + Batch Normalization Model's Accuracy is \n",
      "313/313 [==============================] - 1s 3ms/step - loss: 0.0041 - accuracy: 0.9730\n"
     ]
    },
    {
     "data": {
      "text/plain": [
       "[0.0041421931236982346, 0.9729999899864197]"
      ]
     },
     "execution_count": 130,
     "metadata": {},
     "output_type": "execute_result"
    }
   ],
   "source": [
    "print(\"Original Model's Accuracy is \")\n",
    "model.evaluate(x_test, y_test)\n",
    "print(\"Dropout + Batch Normalization Model's Accuracy is \")\n",
    "drop_batch_m.evaluate(x_test, y_test)"
   ]
  },
  {
   "cell_type": "code",
   "execution_count": 131,
   "metadata": {},
   "outputs": [],
   "source": [
    "def adversarial_pattern_m(model_t, image, label):\n",
    "    image = tf.cast(image, tf.float32)\n",
    "    \n",
    "    with tf.GradientTape() as tape:\n",
    "        tape.watch(image)\n",
    "        prediction = model_t(image)\n",
    "        loss = tf.keras.losses.MSE(label, prediction)\n",
    "    \n",
    "    gradient = tape.gradient(loss, image)\n",
    "    \n",
    "    signed_grad = tf.sign(gradient)\n",
    "    \n",
    "    return signed_grad"
   ]
  },
  {
   "cell_type": "code",
   "execution_count": 139,
   "metadata": {},
   "outputs": [],
   "source": [
    "x_adversarial = np.zeros((3000, 28, 28, 1))\n",
    "\n",
    "for i in range(3000):\n",
    "    image = x_train[i]\n",
    "    image_label = y_train[i]\n",
    "    \n",
    "    perturbations = adversarial_pattern_m(proxy_m, image.reshape((1, img_rows, img_cols, channels)), image_label).numpy()\n",
    "    adversarial = image + perturbations * 0.1\n",
    "    x_adversarial[i, :, :, :] = adversarial\n"
   ]
  },
  {
   "cell_type": "code",
   "execution_count": 140,
   "metadata": {},
   "outputs": [
    {
     "name": "stdout",
     "output_type": "stream",
     "text": [
      "94/94 [==============================] - 0s 3ms/step - loss: 0.0477 - accuracy: 0.7000\n"
     ]
    },
    {
     "data": {
      "text/plain": [
       "[0.047707121819257736, 0.699999988079071]"
      ]
     },
     "execution_count": 140,
     "metadata": {},
     "output_type": "execute_result"
    }
   ],
   "source": [
    "drop_batch_m.evaluate(x_adversarial, y_train[0:3000])"
   ]
  },
  {
   "cell_type": "code",
   "execution_count": null,
   "metadata": {},
   "outputs": [],
   "source": [
    "#It turns out that using both batch norm and dropout doesn't help, and reduces accuracy to batch norm amount.\n",
    "#A possible reason for this is that batch norm fixes the mean and variance of the output layers, so an attack doesn't need to worry about dissapearing neurons that much, since activations don't change"
   ]
  },
  {
   "cell_type": "code",
   "execution_count": 141,
   "metadata": {},
   "outputs": [
    {
     "data": {
      "text/plain": [
       "<matplotlib.image.AxesImage at 0x7fad6e9efef0>"
      ]
     },
     "execution_count": 141,
     "metadata": {},
     "output_type": "execute_result"
    },
    {
     "data": {
      "image/png": "[encoded data removed]",
      "text/plain": [
       "<Figure size 432x288 with 1 Axes>"
      ]
     },
     "metadata": {
      "needs_background": "light"
     },
     "output_type": "display_data"
    }
   ],
   "source": [
    "plt.imshow(x_adversarial[0, :, :, :].reshape(28, 28))"
   ]
  }
 ],
 "metadata": {
  "kernelspec": {
   "display_name": "Python 3",
   "language": "python",
   "name": "python3"
  },
  "language_info": {
   "codemirror_mode": {
    "name": "ipython",
    "version": 3
   },
   "file_extension": ".py",
   "mimetype": "text/x-python",
   "name": "python",
   "nbconvert_exporter": "python",
   "pygments_lexer": "ipython3",
   "version": "3.7.3"
  }
 },
 "nbformat": 4,
 "nbformat_minor": 2
}
